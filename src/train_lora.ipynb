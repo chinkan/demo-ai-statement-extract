{
 "cells": [
  {
   "cell_type": "code",
   "execution_count": 1,
   "metadata": {},
   "outputs": [],
   "source": [
    "import pandas as pd\n",
    "from transformers import AutoTokenizer, AutoModelForSeq2SeqLM, TrainingArguments, Trainer\n",
    "from datasets import Dataset\n",
    "from sklearn.model_selection import train_test_split\n",
    "import matplotlib.pyplot as plt\n",
    "from peft import get_peft_config, get_peft_model, LoraConfig, TaskType\n",
    "import torch\n",
    "import os"
   ]
  },
  {
   "cell_type": "code",
   "execution_count": 2,
   "metadata": {},
   "outputs": [
    {
     "name": "stdout",
     "output_type": "stream",
     "text": [
      "Using device: mps\n"
     ]
    }
   ],
   "source": [
    "# 設置環境變量以啟用 MPS 後備\n",
    "os.environ[\"PYTORCH_ENABLE_MPS_FALLBACK\"] = \"1\"\n",
    "\n",
    "# 檢查 MPS 是否可用\n",
    "device = (\n",
    "    \"mps\" \n",
    "    if torch.backends.mps.is_available() \n",
    "    else \"cpu\"\n",
    ")\n",
    "print(f\"Using device: {device}\")"
   ]
  },
  {
   "cell_type": "code",
   "execution_count": 3,
   "metadata": {},
   "outputs": [],
   "source": [
    "# 讀取CSV文件\n",
    "df = pd.read_csv('../input/training_balanced.csv')\n",
    "df = df.rename(columns={'HasTransaction': 'labels'})\n",
    "\n",
    "# 將數據分為訓練集和驗證集\n",
    "train_df, val_df = train_test_split(df, test_size=0.2, random_state=42)\n",
    "\n",
    "# 將DataFrame轉換為Hugging Face Dataset\n",
    "train_dataset = Dataset.from_pandas(train_df)\n",
    "val_dataset = Dataset.from_pandas(val_df)"
   ]
  },
  {
   "cell_type": "code",
   "execution_count": 4,
   "metadata": {},
   "outputs": [
    {
     "data": {
      "text/plain": [
       "Dataset({\n",
       "    features: ['Content', 'labels', '__index_level_0__'],\n",
       "    num_rows: 314\n",
       "})"
      ]
     },
     "metadata": {},
     "output_type": "display_data"
    }
   ],
   "source": [
    "display(train_dataset)"
   ]
  },
  {
   "cell_type": "code",
   "execution_count": 5,
   "metadata": {},
   "outputs": [
    {
     "data": {
      "text/plain": [
       "Dataset({\n",
       "    features: ['Content', 'labels', '__index_level_0__'],\n",
       "    num_rows: 79\n",
       "})"
      ]
     },
     "metadata": {},
     "output_type": "display_data"
    }
   ],
   "source": [
    "display(val_dataset)"
   ]
  },
  {
   "cell_type": "code",
   "execution_count": 6,
   "metadata": {},
   "outputs": [],
   "source": [
    "# 設置tokenizer\n",
    "model_name = \"google/flan-t5-base\"\n",
    "tokenizer = AutoTokenizer.from_pretrained(model_name)"
   ]
  },
  {
   "cell_type": "code",
   "execution_count": 7,
   "metadata": {},
   "outputs": [],
   "source": [
    "def preprocess_function(examples):\n",
    "    # 為T5添加特定的前綴\n",
    "    inputs = [f\"classify transaction: {text}\" for text in examples[\"Content\"]]\n",
    "    # 將標籤轉換為文本格式\n",
    "    targets = [str(label) for label in examples[\"labels\"]]\n",
    "    \n",
    "    model_inputs = tokenizer(\n",
    "        inputs, \n",
    "        max_length=512,\n",
    "        padding=\"max_length\",\n",
    "        truncation=True,\n",
    "        return_tensors=\"pt\"\n",
    "    )\n",
    "    \n",
    "    # 對標籤進行編碼\n",
    "    labels = tokenizer(\n",
    "        targets,\n",
    "        max_length=8,\n",
    "        padding=\"max_length\",\n",
    "        truncation=True,\n",
    "        return_tensors=\"pt\"\n",
    "    )\n",
    "\n",
    "    model_inputs[\"labels\"] = labels[\"input_ids\"]\n",
    "    return model_inputs"
   ]
  },
  {
   "cell_type": "code",
   "execution_count": 8,
   "metadata": {},
   "outputs": [
    {
     "data": {
      "application/vnd.jupyter.widget-view+json": {
       "model_id": "2163226c1b394261872ee85bd674b9e1",
       "version_major": 2,
       "version_minor": 0
      },
      "text/plain": [
       "Map:   0%|          | 0/314 [00:00<?, ? examples/s]"
      ]
     },
     "metadata": {},
     "output_type": "display_data"
    },
    {
     "data": {
      "application/vnd.jupyter.widget-view+json": {
       "model_id": "a8510667e02547969e8f17cedd0e4fbb",
       "version_major": 2,
       "version_minor": 0
      },
      "text/plain": [
       "Map:   0%|          | 0/79 [00:00<?, ? examples/s]"
      ]
     },
     "metadata": {},
     "output_type": "display_data"
    }
   ],
   "source": [
    "# 對數據集應用預處理\n",
    "tokenized_train = train_dataset.map(preprocess_function, batched=True, remove_columns=train_dataset.column_names)\n",
    "tokenized_val = val_dataset.map(preprocess_function, batched=True, remove_columns=val_dataset.column_names)"
   ]
  },
  {
   "cell_type": "code",
   "execution_count": 9,
   "metadata": {},
   "outputs": [
    {
     "data": {
      "text/plain": [
       "Dataset({\n",
       "    features: ['labels', 'input_ids', 'attention_mask'],\n",
       "    num_rows: 314\n",
       "})"
      ]
     },
     "metadata": {},
     "output_type": "display_data"
    }
   ],
   "source": [
    "display(tokenized_train)"
   ]
  },
  {
   "cell_type": "code",
   "execution_count": 10,
   "metadata": {},
   "outputs": [
    {
     "data": {
      "text/plain": [
       "Dataset({\n",
       "    features: ['labels', 'input_ids', 'attention_mask'],\n",
       "    num_rows: 79\n",
       "})"
      ]
     },
     "metadata": {},
     "output_type": "display_data"
    }
   ],
   "source": [
    "display(tokenized_val)"
   ]
  },
  {
   "cell_type": "code",
   "execution_count": 11,
   "metadata": {},
   "outputs": [],
   "source": [
    "# 設置基礎模型\n",
    "base_model = AutoModelForSeq2SeqLM.from_pretrained(\n",
    "    model_name,\n",
    "    torch_dtype=torch.float16,\n",
    ").to(device)"
   ]
  },
  {
   "cell_type": "code",
   "execution_count": 12,
   "metadata": {},
   "outputs": [],
   "source": [
    "# 配置LoRA\n",
    "peft_config = LoraConfig(\n",
    "    task_type=TaskType.SEQ_2_SEQ_LM,  # T5是序列到序列模型\n",
    "    inference_mode=False,\n",
    "    r=256,                    # 從 8 提高到 256\n",
    "    lora_alpha=512,  \n",
    "    lora_dropout=0.1,\n",
    "    target_modules=[\"q\", \"v\", \"k\", \"o\", \"gate\", \"up\", \"down\"]  # 增加更多目標模組\n",
    ")"
   ]
  },
  {
   "cell_type": "code",
   "execution_count": 13,
   "metadata": {},
   "outputs": [
    {
     "name": "stdout",
     "output_type": "stream",
     "text": [
      "trainable params: 56,623,104 || all params: 304,200,960 || trainable%: 18.6137\n"
     ]
    }
   ],
   "source": [
    "# 創建PEFT模型\n",
    "model = get_peft_model(base_model, peft_config)\n",
    "model.print_trainable_parameters()"
   ]
  },
  {
   "cell_type": "code",
   "execution_count": 14,
   "metadata": {},
   "outputs": [],
   "source": [
    "# 定義訓練參數\n",
    "training_args = TrainingArguments(\n",
    "    output_dir=\"../output/lora_results\",\n",
    "    num_train_epochs=100,\n",
    "    per_device_train_batch_size=4,\n",
    "    per_device_eval_batch_size=4,\n",
    "    gradient_accumulation_steps=2,\n",
    "    warmup_steps=500,\n",
    "    learning_rate=1e-5,\n",
    "    weight_decay=0.01,\n",
    "    logging_dir=\"./logs\",\n",
    "    logging_steps=10,\n",
    "    eval_strategy=\"epoch\",\n",
    "    save_strategy=\"epoch\",\n",
    "    load_best_model_at_end=True,\n",
    "    auto_find_batch_size=True\n",
    ")"
   ]
  },
  {
   "cell_type": "code",
   "execution_count": 15,
   "metadata": {},
   "outputs": [
    {
     "name": "stderr",
     "output_type": "stream",
     "text": [
      "/var/folders/jb/j6r5nys57yd6l7l9kbbbqlsh5f4v0p/T/ipykernel_58808/2708656994.py:2: FutureWarning: `tokenizer` is deprecated and will be removed in version 5.0.0 for `Trainer.__init__`. Use `processing_class` instead.\n",
      "  trainer = Trainer(\n"
     ]
    }
   ],
   "source": [
    "# 設置Trainer並開始訓練\n",
    "trainer = Trainer(\n",
    "    model=model,\n",
    "    args=training_args,\n",
    "    train_dataset=tokenized_train,\n",
    "    eval_dataset=tokenized_val,\n",
    "    tokenizer=tokenizer,\n",
    ")\n",
    "\n",
    "# 訓練前禁用快取以避免警告\n",
    "model.config.use_cache = False"
   ]
  },
  {
   "cell_type": "code",
   "execution_count": 16,
   "metadata": {},
   "outputs": [
    {
     "data": {
      "application/vnd.jupyter.widget-view+json": {
       "model_id": "6b51eb99ef7c430cac706eb48af8d7b9",
       "version_major": 2,
       "version_minor": 0
      },
      "text/plain": [
       "  0%|          | 0/3900 [00:00<?, ?it/s]"
      ]
     },
     "metadata": {},
     "output_type": "display_data"
    },
    {
     "name": "stdout",
     "output_type": "stream",
     "text": [
      "{'loss': 40.1734, 'grad_norm': 100.5905532836914, 'learning_rate': 2.0000000000000002e-07, 'epoch': 0.25}\n",
      "{'loss': 39.6266, 'grad_norm': 119.31454467773438, 'learning_rate': 4.0000000000000003e-07, 'epoch': 0.51}\n",
      "{'loss': 39.8922, 'grad_norm': 114.58261108398438, 'learning_rate': 6.000000000000001e-07, 'epoch': 0.76}\n"
     ]
    },
    {
     "data": {
      "application/vnd.jupyter.widget-view+json": {
       "model_id": "becf56773b8d42c295ed2df75dca0513",
       "version_major": 2,
       "version_minor": 0
      },
      "text/plain": [
       "  0%|          | 0/20 [00:00<?, ?it/s]"
      ]
     },
     "metadata": {},
     "output_type": "display_data"
    },
    {
     "name": "stdout",
     "output_type": "stream",
     "text": [
      "{'eval_loss': 41.8125, 'eval_runtime': 4.0705, 'eval_samples_per_second': 19.408, 'eval_steps_per_second': 4.913, 'epoch': 0.99}\n",
      "{'loss': 38.225, 'grad_norm': 93.20215606689453, 'learning_rate': 8.000000000000001e-07, 'epoch': 1.01}\n",
      "{'loss': 39.3906, 'grad_norm': 97.97002410888672, 'learning_rate': 1.0000000000000002e-06, 'epoch': 1.27}\n",
      "{'loss': 37.2766, 'grad_norm': 84.2933349609375, 'learning_rate': 1.2000000000000002e-06, 'epoch': 1.52}\n",
      "{'loss': 37.7844, 'grad_norm': 111.72199249267578, 'learning_rate': 1.4000000000000001e-06, 'epoch': 1.77}\n"
     ]
    },
    {
     "data": {
      "application/vnd.jupyter.widget-view+json": {
       "model_id": "0f07b2ce8da840ec9a597d0ca0aa6352",
       "version_major": 2,
       "version_minor": 0
      },
      "text/plain": [
       "  0%|          | 0/20 [00:00<?, ?it/s]"
      ]
     },
     "metadata": {},
     "output_type": "display_data"
    },
    {
     "name": "stdout",
     "output_type": "stream",
     "text": [
      "{'eval_loss': 39.15625, 'eval_runtime': 3.7404, 'eval_samples_per_second': 21.121, 'eval_steps_per_second': 5.347, 'epoch': 2.0}\n",
      "{'loss': 37.8469, 'grad_norm': 97.0112533569336, 'learning_rate': 1.6000000000000001e-06, 'epoch': 2.03}\n",
      "{'loss': 36.6422, 'grad_norm': 76.27106475830078, 'learning_rate': 1.8000000000000001e-06, 'epoch': 2.28}\n",
      "{'loss': 36.4453, 'grad_norm': 69.47300720214844, 'learning_rate': 2.0000000000000003e-06, 'epoch': 2.53}\n",
      "{'loss': 34.9875, 'grad_norm': 79.92808532714844, 'learning_rate': 2.2e-06, 'epoch': 2.78}\n"
     ]
    },
    {
     "data": {
      "application/vnd.jupyter.widget-view+json": {
       "model_id": "3fa9b3e978ef406dbbca6264da0d2796",
       "version_major": 2,
       "version_minor": 0
      },
      "text/plain": [
       "  0%|          | 0/20 [00:00<?, ?it/s]"
      ]
     },
     "metadata": {},
     "output_type": "display_data"
    },
    {
     "name": "stdout",
     "output_type": "stream",
     "text": [
      "{'eval_loss': 35.09375, 'eval_runtime': 3.7336, 'eval_samples_per_second': 21.159, 'eval_steps_per_second': 5.357, 'epoch': 2.99}\n",
      "{'loss': 35.2781, 'grad_norm': 68.83483123779297, 'learning_rate': 2.4000000000000003e-06, 'epoch': 3.04}\n",
      "{'loss': 33.4789, 'grad_norm': 64.78730010986328, 'learning_rate': 2.6e-06, 'epoch': 3.29}\n",
      "{'loss': 32.15, 'grad_norm': 62.11085891723633, 'learning_rate': 2.8000000000000003e-06, 'epoch': 3.54}\n",
      "{'loss': 32.7289, 'grad_norm': 45.883880615234375, 'learning_rate': 3e-06, 'epoch': 3.8}\n"
     ]
    },
    {
     "data": {
      "application/vnd.jupyter.widget-view+json": {
       "model_id": "69899106485b48c7a97e181fab239e54",
       "version_major": 2,
       "version_minor": 0
      },
      "text/plain": [
       "  0%|          | 0/20 [00:00<?, ?it/s]"
      ]
     },
     "metadata": {},
     "output_type": "display_data"
    },
    {
     "name": "stdout",
     "output_type": "stream",
     "text": [
      "{'eval_loss': 30.25, 'eval_runtime': 3.765, 'eval_samples_per_second': 20.983, 'eval_steps_per_second': 5.312, 'epoch': 4.0}\n",
      "{'loss': 30.6133, 'grad_norm': 55.18882369995117, 'learning_rate': 3.2000000000000003e-06, 'epoch': 4.05}\n",
      "{'loss': 30.3492, 'grad_norm': 48.912132263183594, 'learning_rate': 3.4000000000000005e-06, 'epoch': 4.3}\n",
      "{'loss': 29.2063, 'grad_norm': 52.288780212402344, 'learning_rate': 3.6000000000000003e-06, 'epoch': 4.56}\n",
      "{'loss': 27.6359, 'grad_norm': 42.62075424194336, 'learning_rate': 3.8000000000000005e-06, 'epoch': 4.81}\n"
     ]
    },
    {
     "data": {
      "application/vnd.jupyter.widget-view+json": {
       "model_id": "96ea6dea511f44c897700b44d4aed3a3",
       "version_major": 2,
       "version_minor": 0
      },
      "text/plain": [
       "  0%|          | 0/20 [00:00<?, ?it/s]"
      ]
     },
     "metadata": {},
     "output_type": "display_data"
    },
    {
     "name": "stdout",
     "output_type": "stream",
     "text": [
      "{'eval_loss': 24.6875, 'eval_runtime': 3.7219, 'eval_samples_per_second': 21.226, 'eval_steps_per_second': 5.374, 'epoch': 4.99}\n",
      "{'loss': 26.8352, 'grad_norm': 44.083831787109375, 'learning_rate': 4.000000000000001e-06, 'epoch': 5.06}\n",
      "{'loss': 25.3055, 'grad_norm': 38.556060791015625, 'learning_rate': 4.2000000000000004e-06, 'epoch': 5.32}\n",
      "{'loss': 23.7602, 'grad_norm': 33.51295471191406, 'learning_rate': 4.4e-06, 'epoch': 5.57}\n",
      "{'loss': 22.7688, 'grad_norm': 31.403440475463867, 'learning_rate': 4.600000000000001e-06, 'epoch': 5.82}\n"
     ]
    },
    {
     "data": {
      "application/vnd.jupyter.widget-view+json": {
       "model_id": "bb85e97c133947af927d1cf6f14c4a6d",
       "version_major": 2,
       "version_minor": 0
      },
      "text/plain": [
       "  0%|          | 0/20 [00:00<?, ?it/s]"
      ]
     },
     "metadata": {},
     "output_type": "display_data"
    },
    {
     "name": "stdout",
     "output_type": "stream",
     "text": [
      "{'eval_loss': 19.265625, 'eval_runtime': 3.7505, 'eval_samples_per_second': 21.064, 'eval_steps_per_second': 5.333, 'epoch': 6.0}\n",
      "{'loss': 21.732, 'grad_norm': 30.325977325439453, 'learning_rate': 4.800000000000001e-06, 'epoch': 6.08}\n",
      "{'loss': 20.5867, 'grad_norm': 25.843229293823242, 'learning_rate': 5e-06, 'epoch': 6.33}\n",
      "{'loss': 19.7641, 'grad_norm': 34.41262435913086, 'learning_rate': 5.2e-06, 'epoch': 6.58}\n",
      "{'loss': 18.3156, 'grad_norm': 21.72047233581543, 'learning_rate': 5.400000000000001e-06, 'epoch': 6.84}\n"
     ]
    },
    {
     "data": {
      "application/vnd.jupyter.widget-view+json": {
       "model_id": "f3cc8bd3933049848bc1006c2f1adcf8",
       "version_major": 2,
       "version_minor": 0
      },
      "text/plain": [
       "  0%|          | 0/20 [00:00<?, ?it/s]"
      ]
     },
     "metadata": {},
     "output_type": "display_data"
    },
    {
     "name": "stdout",
     "output_type": "stream",
     "text": [
      "{'eval_loss': 14.640625, 'eval_runtime': 3.7354, 'eval_samples_per_second': 21.149, 'eval_steps_per_second': 5.354, 'epoch': 6.99}\n",
      "{'loss': 17.3125, 'grad_norm': 28.68633270263672, 'learning_rate': 5.600000000000001e-06, 'epoch': 7.09}\n",
      "{'loss': 15.8715, 'grad_norm': 29.30625343322754, 'learning_rate': 5.8e-06, 'epoch': 7.34}\n",
      "{'loss': 14.3832, 'grad_norm': 35.909149169921875, 'learning_rate': 6e-06, 'epoch': 7.59}\n",
      "{'loss': 12.3832, 'grad_norm': 46.26340103149414, 'learning_rate': 6.200000000000001e-06, 'epoch': 7.85}\n"
     ]
    },
    {
     "data": {
      "application/vnd.jupyter.widget-view+json": {
       "model_id": "f4e672e630af4b4eb39fd607c25e2ab3",
       "version_major": 2,
       "version_minor": 0
      },
      "text/plain": [
       "  0%|          | 0/20 [00:00<?, ?it/s]"
      ]
     },
     "metadata": {},
     "output_type": "display_data"
    },
    {
     "name": "stdout",
     "output_type": "stream",
     "text": [
      "{'eval_loss': 7.55859375, 'eval_runtime': 3.7316, 'eval_samples_per_second': 21.171, 'eval_steps_per_second': 5.36, 'epoch': 8.0}\n",
      "{'loss': 10.1742, 'grad_norm': 49.361839294433594, 'learning_rate': 6.4000000000000006e-06, 'epoch': 8.1}\n",
      "{'loss': 8.9816, 'grad_norm': 25.658538818359375, 'learning_rate': 6.600000000000001e-06, 'epoch': 8.35}\n",
      "{'loss': 8.4639, 'grad_norm': 14.656781196594238, 'learning_rate': 6.800000000000001e-06, 'epoch': 8.61}\n",
      "{'loss': 7.9826, 'grad_norm': 12.915969848632812, 'learning_rate': 7e-06, 'epoch': 8.86}\n"
     ]
    },
    {
     "data": {
      "application/vnd.jupyter.widget-view+json": {
       "model_id": "1d9d57258f2a401595d1d6f60e2666fa",
       "version_major": 2,
       "version_minor": 0
      },
      "text/plain": [
       "  0%|          | 0/20 [00:00<?, ?it/s]"
      ]
     },
     "metadata": {},
     "output_type": "display_data"
    },
    {
     "name": "stdout",
     "output_type": "stream",
     "text": [
      "{'eval_loss': 6.80859375, 'eval_runtime': 3.715, 'eval_samples_per_second': 21.265, 'eval_steps_per_second': 5.384, 'epoch': 8.99}\n",
      "{'loss': 7.5811, 'grad_norm': 17.833148956298828, 'learning_rate': 7.2000000000000005e-06, 'epoch': 9.11}\n",
      "{'loss': 7.2502, 'grad_norm': 9.3274564743042, 'learning_rate': 7.4e-06, 'epoch': 9.37}\n",
      "{'loss': 6.8455, 'grad_norm': 13.799182891845703, 'learning_rate': 7.600000000000001e-06, 'epoch': 9.62}\n",
      "{'loss': 6.4105, 'grad_norm': 9.802205085754395, 'learning_rate': 7.800000000000002e-06, 'epoch': 9.87}\n"
     ]
    },
    {
     "data": {
      "application/vnd.jupyter.widget-view+json": {
       "model_id": "17cd2085c46e479ca40d6ca7b02e1ac0",
       "version_major": 2,
       "version_minor": 0
      },
      "text/plain": [
       "  0%|          | 0/20 [00:00<?, ?it/s]"
      ]
     },
     "metadata": {},
     "output_type": "display_data"
    },
    {
     "name": "stdout",
     "output_type": "stream",
     "text": [
      "{'eval_loss': 5.09375, 'eval_runtime': 3.8101, 'eval_samples_per_second': 20.734, 'eval_steps_per_second': 5.249, 'epoch': 10.0}\n",
      "{'loss': 6.0014, 'grad_norm': 10.303955078125, 'learning_rate': 8.000000000000001e-06, 'epoch': 10.13}\n",
      "{'loss': 5.5254, 'grad_norm': 17.281333923339844, 'learning_rate': 8.2e-06, 'epoch': 10.38}\n",
      "{'loss': 4.8797, 'grad_norm': 14.47922134399414, 'learning_rate': 8.400000000000001e-06, 'epoch': 10.63}\n",
      "{'loss': 4.3158, 'grad_norm': 11.606026649475098, 'learning_rate': 8.6e-06, 'epoch': 10.89}\n"
     ]
    },
    {
     "data": {
      "application/vnd.jupyter.widget-view+json": {
       "model_id": "c9d62437659546c99ec027e2e5112cab",
       "version_major": 2,
       "version_minor": 0
      },
      "text/plain": [
       "  0%|          | 0/20 [00:00<?, ?it/s]"
      ]
     },
     "metadata": {},
     "output_type": "display_data"
    },
    {
     "name": "stdout",
     "output_type": "stream",
     "text": [
      "{'eval_loss': 3.705078125, 'eval_runtime': 3.7675, 'eval_samples_per_second': 20.969, 'eval_steps_per_second': 5.308, 'epoch': 10.99}\n",
      "{'loss': 4.1242, 'grad_norm': 8.94244384765625, 'learning_rate': 8.8e-06, 'epoch': 11.14}\n",
      "{'loss': 3.8644, 'grad_norm': 8.253856658935547, 'learning_rate': 9e-06, 'epoch': 11.39}\n",
      "{'loss': 3.7428, 'grad_norm': 6.250693321228027, 'learning_rate': 9.200000000000002e-06, 'epoch': 11.65}\n",
      "{'loss': 3.7193, 'grad_norm': 10.075949668884277, 'learning_rate': 9.4e-06, 'epoch': 11.9}\n"
     ]
    },
    {
     "data": {
      "application/vnd.jupyter.widget-view+json": {
       "model_id": "b5e381d9e4a14eb2803d4f9d738623f2",
       "version_major": 2,
       "version_minor": 0
      },
      "text/plain": [
       "  0%|          | 0/20 [00:00<?, ?it/s]"
      ]
     },
     "metadata": {},
     "output_type": "display_data"
    },
    {
     "name": "stdout",
     "output_type": "stream",
     "text": [
      "{'eval_loss': 3.337890625, 'eval_runtime': 3.7724, 'eval_samples_per_second': 20.942, 'eval_steps_per_second': 5.302, 'epoch': 12.0}\n",
      "{'loss': 3.5595, 'grad_norm': 10.007322311401367, 'learning_rate': 9.600000000000001e-06, 'epoch': 12.15}\n",
      "{'loss': 3.4178, 'grad_norm': 8.970113754272461, 'learning_rate': 9.800000000000001e-06, 'epoch': 12.41}\n",
      "{'loss': 3.2746, 'grad_norm': 7.956885814666748, 'learning_rate': 1e-05, 'epoch': 12.66}\n",
      "{'loss': 3.2659, 'grad_norm': 10.274398803710938, 'learning_rate': 9.970588235294119e-06, 'epoch': 12.91}\n"
     ]
    },
    {
     "data": {
      "application/vnd.jupyter.widget-view+json": {
       "model_id": "fe7bde8c18c14d45a5942a7b1c5660f6",
       "version_major": 2,
       "version_minor": 0
      },
      "text/plain": [
       "  0%|          | 0/20 [00:00<?, ?it/s]"
      ]
     },
     "metadata": {},
     "output_type": "display_data"
    },
    {
     "name": "stdout",
     "output_type": "stream",
     "text": [
      "{'eval_loss': 2.908203125, 'eval_runtime': 3.7201, 'eval_samples_per_second': 21.236, 'eval_steps_per_second': 5.376, 'epoch': 12.99}\n",
      "{'loss': 3.096, 'grad_norm': 3.6622397899627686, 'learning_rate': 9.941176470588236e-06, 'epoch': 13.16}\n",
      "{'loss': 3.0066, 'grad_norm': 13.071782112121582, 'learning_rate': 9.911764705882354e-06, 'epoch': 13.42}\n",
      "{'loss': 2.8621, 'grad_norm': 6.2901458740234375, 'learning_rate': 9.882352941176472e-06, 'epoch': 13.67}\n",
      "{'loss': 2.7782, 'grad_norm': 10.257248878479004, 'learning_rate': 9.852941176470589e-06, 'epoch': 13.92}\n"
     ]
    },
    {
     "data": {
      "application/vnd.jupyter.widget-view+json": {
       "model_id": "e8887560a8d144259e5e3e67b352a40d",
       "version_major": 2,
       "version_minor": 0
      },
      "text/plain": [
       "  0%|          | 0/20 [00:00<?, ?it/s]"
      ]
     },
     "metadata": {},
     "output_type": "display_data"
    },
    {
     "name": "stdout",
     "output_type": "stream",
     "text": [
      "{'eval_loss': 2.40234375, 'eval_runtime': 3.7412, 'eval_samples_per_second': 21.116, 'eval_steps_per_second': 5.346, 'epoch': 14.0}\n",
      "{'loss': 2.6895, 'grad_norm': 9.019654273986816, 'learning_rate': 9.823529411764706e-06, 'epoch': 14.18}\n",
      "{'loss': 2.5064, 'grad_norm': 11.311860084533691, 'learning_rate': 9.794117647058824e-06, 'epoch': 14.43}\n",
      "{'loss': 2.4561, 'grad_norm': 7.7788190841674805, 'learning_rate': 9.764705882352942e-06, 'epoch': 14.68}\n",
      "{'loss': 2.3267, 'grad_norm': 16.779613494873047, 'learning_rate': 9.735294117647059e-06, 'epoch': 14.94}\n"
     ]
    },
    {
     "data": {
      "application/vnd.jupyter.widget-view+json": {
       "model_id": "ab2c7597ecb442b2922a1ae15f7f9eb2",
       "version_major": 2,
       "version_minor": 0
      },
      "text/plain": [
       "  0%|          | 0/20 [00:00<?, ?it/s]"
      ]
     },
     "metadata": {},
     "output_type": "display_data"
    },
    {
     "name": "stdout",
     "output_type": "stream",
     "text": [
      "{'eval_loss': 1.8046875, 'eval_runtime': 3.735, 'eval_samples_per_second': 21.151, 'eval_steps_per_second': 5.355, 'epoch': 14.99}\n",
      "{'loss': 2.2469, 'grad_norm': 14.555652618408203, 'learning_rate': 9.705882352941177e-06, 'epoch': 15.19}\n",
      "{'loss': 2.2003, 'grad_norm': 13.823470115661621, 'learning_rate': 9.676470588235296e-06, 'epoch': 15.44}\n",
      "{'loss': 2.0551, 'grad_norm': 5.109806060791016, 'learning_rate': 9.647058823529412e-06, 'epoch': 15.7}\n",
      "{'loss': 1.9339, 'grad_norm': 15.027835845947266, 'learning_rate': 9.61764705882353e-06, 'epoch': 15.95}\n"
     ]
    },
    {
     "data": {
      "application/vnd.jupyter.widget-view+json": {
       "model_id": "f45dc2f96af84f58a363a6a8eb2edc24",
       "version_major": 2,
       "version_minor": 0
      },
      "text/plain": [
       "  0%|          | 0/20 [00:00<?, ?it/s]"
      ]
     },
     "metadata": {},
     "output_type": "display_data"
    },
    {
     "name": "stdout",
     "output_type": "stream",
     "text": [
      "{'eval_loss': 1.16015625, 'eval_runtime': 3.7417, 'eval_samples_per_second': 21.114, 'eval_steps_per_second': 5.345, 'epoch': 16.0}\n",
      "{'loss': 1.8678, 'grad_norm': 9.073450088500977, 'learning_rate': 9.588235294117649e-06, 'epoch': 16.2}\n",
      "{'loss': 1.7058, 'grad_norm': 10.61365795135498, 'learning_rate': 9.558823529411766e-06, 'epoch': 16.46}\n",
      "{'loss': 1.6717, 'grad_norm': 4.116611003875732, 'learning_rate': 9.529411764705882e-06, 'epoch': 16.71}\n",
      "{'loss': 1.6104, 'grad_norm': 3.556582450866699, 'learning_rate': 9.5e-06, 'epoch': 16.96}\n"
     ]
    },
    {
     "data": {
      "application/vnd.jupyter.widget-view+json": {
       "model_id": "ccbb3040cc44466f914a07e440235205",
       "version_major": 2,
       "version_minor": 0
      },
      "text/plain": [
       "  0%|          | 0/20 [00:00<?, ?it/s]"
      ]
     },
     "metadata": {},
     "output_type": "display_data"
    },
    {
     "name": "stdout",
     "output_type": "stream",
     "text": [
      "{'eval_loss': 0.81396484375, 'eval_runtime': 3.722, 'eval_samples_per_second': 21.225, 'eval_steps_per_second': 5.374, 'epoch': 16.99}\n",
      "{'loss': 1.513, 'grad_norm': 7.483821392059326, 'learning_rate': 9.470588235294119e-06, 'epoch': 17.22}\n",
      "{'loss': 1.3851, 'grad_norm': 4.552277088165283, 'learning_rate': 9.441176470588235e-06, 'epoch': 17.47}\n",
      "{'loss': 1.3247, 'grad_norm': 4.574612140655518, 'learning_rate': 9.411764705882354e-06, 'epoch': 17.72}\n",
      "{'loss': 1.2958, 'grad_norm': 3.685652017593384, 'learning_rate': 9.382352941176472e-06, 'epoch': 17.97}\n"
     ]
    },
    {
     "data": {
      "application/vnd.jupyter.widget-view+json": {
       "model_id": "c35af538b028479780ce9216eff689e9",
       "version_major": 2,
       "version_minor": 0
      },
      "text/plain": [
       "  0%|          | 0/20 [00:00<?, ?it/s]"
      ]
     },
     "metadata": {},
     "output_type": "display_data"
    },
    {
     "name": "stdout",
     "output_type": "stream",
     "text": [
      "{'eval_loss': 0.55908203125, 'eval_runtime': 3.7504, 'eval_samples_per_second': 21.065, 'eval_steps_per_second': 5.333, 'epoch': 18.0}\n",
      "{'loss': 1.4093, 'grad_norm': 4.8476643562316895, 'learning_rate': 9.352941176470589e-06, 'epoch': 18.23}\n",
      "{'loss': 1.1041, 'grad_norm': 44.77315902709961, 'learning_rate': 9.323529411764707e-06, 'epoch': 18.48}\n",
      "{'loss': 1.0193, 'grad_norm': 3.3030552864074707, 'learning_rate': 9.294117647058824e-06, 'epoch': 18.73}\n",
      "{'loss': 1.0028, 'grad_norm': 19.234474182128906, 'learning_rate': 9.264705882352942e-06, 'epoch': 18.99}\n"
     ]
    },
    {
     "data": {
      "application/vnd.jupyter.widget-view+json": {
       "model_id": "208be4166abd48689a5d563810373ba0",
       "version_major": 2,
       "version_minor": 0
      },
      "text/plain": [
       "  0%|          | 0/20 [00:00<?, ?it/s]"
      ]
     },
     "metadata": {},
     "output_type": "display_data"
    },
    {
     "name": "stdout",
     "output_type": "stream",
     "text": [
      "{'eval_loss': 0.40576171875, 'eval_runtime': 3.7555, 'eval_samples_per_second': 21.036, 'eval_steps_per_second': 5.325, 'epoch': 18.99}\n",
      "{'loss': 0.8825, 'grad_norm': 4.1615190505981445, 'learning_rate': 9.23529411764706e-06, 'epoch': 19.24}\n",
      "{'loss': 0.861, 'grad_norm': 3.111128807067871, 'learning_rate': 9.205882352941177e-06, 'epoch': 19.49}\n",
      "{'loss': 0.8407, 'grad_norm': 20.4649600982666, 'learning_rate': 9.176470588235294e-06, 'epoch': 19.75}\n",
      "{'loss': 0.7802, 'grad_norm': 15.172104835510254, 'learning_rate': 9.147058823529412e-06, 'epoch': 20.0}\n"
     ]
    },
    {
     "data": {
      "application/vnd.jupyter.widget-view+json": {
       "model_id": "533319d8dd8f4758b6b467038c588314",
       "version_major": 2,
       "version_minor": 0
      },
      "text/plain": [
       "  0%|          | 0/20 [00:00<?, ?it/s]"
      ]
     },
     "metadata": {},
     "output_type": "display_data"
    },
    {
     "name": "stdout",
     "output_type": "stream",
     "text": [
      "{'eval_loss': 0.28857421875, 'eval_runtime': 3.7997, 'eval_samples_per_second': 20.791, 'eval_steps_per_second': 5.264, 'epoch': 20.0}\n",
      "{'loss': 0.7503, 'grad_norm': 3.936988592147827, 'learning_rate': 9.11764705882353e-06, 'epoch': 20.25}\n",
      "{'loss': 0.7736, 'grad_norm': 23.974103927612305, 'learning_rate': 9.088235294117647e-06, 'epoch': 20.51}\n",
      "{'loss': 0.7902, 'grad_norm': 7.969853401184082, 'learning_rate': 9.058823529411765e-06, 'epoch': 20.76}\n"
     ]
    },
    {
     "data": {
      "application/vnd.jupyter.widget-view+json": {
       "model_id": "fb5a800cda26492f931b080d71b8bb23",
       "version_major": 2,
       "version_minor": 0
      },
      "text/plain": [
       "  0%|          | 0/20 [00:00<?, ?it/s]"
      ]
     },
     "metadata": {},
     "output_type": "display_data"
    },
    {
     "name": "stdout",
     "output_type": "stream",
     "text": [
      "{'eval_loss': 0.2264404296875, 'eval_runtime': 3.7417, 'eval_samples_per_second': 21.113, 'eval_steps_per_second': 5.345, 'epoch': 20.99}\n",
      "{'loss': 0.7421, 'grad_norm': 41.082515716552734, 'learning_rate': 9.029411764705884e-06, 'epoch': 21.01}\n",
      "{'loss': 0.7363, 'grad_norm': 13.194680213928223, 'learning_rate': 9e-06, 'epoch': 21.27}\n",
      "{'loss': 0.602, 'grad_norm': 1.8161851167678833, 'learning_rate': 8.970588235294119e-06, 'epoch': 21.52}\n",
      "{'loss': 0.5814, 'grad_norm': 4.122065544128418, 'learning_rate': 8.941176470588237e-06, 'epoch': 21.77}\n"
     ]
    },
    {
     "data": {
      "application/vnd.jupyter.widget-view+json": {
       "model_id": "cb8a6e9ae24b4784a8b661213f587cf5",
       "version_major": 2,
       "version_minor": 0
      },
      "text/plain": [
       "  0%|          | 0/20 [00:00<?, ?it/s]"
      ]
     },
     "metadata": {},
     "output_type": "display_data"
    },
    {
     "name": "stdout",
     "output_type": "stream",
     "text": [
      "{'eval_loss': 0.181884765625, 'eval_runtime': 3.7418, 'eval_samples_per_second': 21.113, 'eval_steps_per_second': 5.345, 'epoch': 22.0}\n",
      "{'loss': 0.4999, 'grad_norm': 10.25361156463623, 'learning_rate': 8.911764705882354e-06, 'epoch': 22.03}\n",
      "{'loss': 0.5631, 'grad_norm': 3.589134454727173, 'learning_rate': 8.88235294117647e-06, 'epoch': 22.28}\n",
      "{'loss': 0.5292, 'grad_norm': 4.493371486663818, 'learning_rate': 8.852941176470588e-06, 'epoch': 22.53}\n",
      "{'loss': 0.4563, 'grad_norm': 2.445988178253174, 'learning_rate': 8.823529411764707e-06, 'epoch': 22.78}\n"
     ]
    },
    {
     "data": {
      "application/vnd.jupyter.widget-view+json": {
       "model_id": "1f614d868a3b499ba909feb64071b820",
       "version_major": 2,
       "version_minor": 0
      },
      "text/plain": [
       "  0%|          | 0/20 [00:00<?, ?it/s]"
      ]
     },
     "metadata": {},
     "output_type": "display_data"
    },
    {
     "name": "stdout",
     "output_type": "stream",
     "text": [
      "{'eval_loss': 0.147216796875, 'eval_runtime': 3.7443, 'eval_samples_per_second': 21.099, 'eval_steps_per_second': 5.341, 'epoch': 22.99}\n",
      "{'loss': 0.4466, 'grad_norm': 23.58945083618164, 'learning_rate': 8.794117647058823e-06, 'epoch': 23.04}\n",
      "{'loss': 0.4336, 'grad_norm': 1.75568687915802, 'learning_rate': 8.764705882352942e-06, 'epoch': 23.29}\n",
      "{'loss': 0.4143, 'grad_norm': 2.208237648010254, 'learning_rate': 8.73529411764706e-06, 'epoch': 23.54}\n",
      "{'loss': 0.4141, 'grad_norm': 1.4524884223937988, 'learning_rate': 8.705882352941177e-06, 'epoch': 23.8}\n"
     ]
    },
    {
     "data": {
      "application/vnd.jupyter.widget-view+json": {
       "model_id": "1ab8899781424cd4ac3b1ca3f9f4c61a",
       "version_major": 2,
       "version_minor": 0
      },
      "text/plain": [
       "  0%|          | 0/20 [00:00<?, ?it/s]"
      ]
     },
     "metadata": {},
     "output_type": "display_data"
    },
    {
     "name": "stdout",
     "output_type": "stream",
     "text": [
      "{'eval_loss': 0.128173828125, 'eval_runtime': 3.7782, 'eval_samples_per_second': 20.909, 'eval_steps_per_second': 5.294, 'epoch': 24.0}\n",
      "{'loss': 0.3792, 'grad_norm': 1.713018774986267, 'learning_rate': 8.676470588235295e-06, 'epoch': 24.05}\n",
      "{'loss': 0.3803, 'grad_norm': 16.893051147460938, 'learning_rate': 8.647058823529413e-06, 'epoch': 24.3}\n",
      "{'loss': 0.3373, 'grad_norm': 14.786985397338867, 'learning_rate': 8.61764705882353e-06, 'epoch': 24.56}\n",
      "{'loss': 0.3712, 'grad_norm': 17.28569984436035, 'learning_rate': 8.588235294117647e-06, 'epoch': 24.81}\n"
     ]
    },
    {
     "data": {
      "application/vnd.jupyter.widget-view+json": {
       "model_id": "a3dfdc377db34806a666309d57d271de",
       "version_major": 2,
       "version_minor": 0
      },
      "text/plain": [
       "  0%|          | 0/20 [00:00<?, ?it/s]"
      ]
     },
     "metadata": {},
     "output_type": "display_data"
    },
    {
     "name": "stdout",
     "output_type": "stream",
     "text": [
      "{'eval_loss': 0.11224365234375, 'eval_runtime': 3.759, 'eval_samples_per_second': 21.016, 'eval_steps_per_second': 5.321, 'epoch': 24.99}\n",
      "{'loss': 0.3311, 'grad_norm': 2.5605201721191406, 'learning_rate': 8.558823529411765e-06, 'epoch': 25.06}\n",
      "{'loss': 0.3204, 'grad_norm': 25.456886291503906, 'learning_rate': 8.529411764705883e-06, 'epoch': 25.32}\n",
      "{'loss': 0.2733, 'grad_norm': 1.0610926151275635, 'learning_rate': 8.5e-06, 'epoch': 25.57}\n",
      "{'loss': 0.3521, 'grad_norm': 10.434671401977539, 'learning_rate': 8.470588235294118e-06, 'epoch': 25.82}\n"
     ]
    },
    {
     "data": {
      "application/vnd.jupyter.widget-view+json": {
       "model_id": "b05817a819f9484696bb1d9bd17a247f",
       "version_major": 2,
       "version_minor": 0
      },
      "text/plain": [
       "  0%|          | 0/20 [00:00<?, ?it/s]"
      ]
     },
     "metadata": {},
     "output_type": "display_data"
    },
    {
     "name": "stdout",
     "output_type": "stream",
     "text": [
      "{'eval_loss': 0.09881591796875, 'eval_runtime': 3.7913, 'eval_samples_per_second': 20.837, 'eval_steps_per_second': 5.275, 'epoch': 26.0}\n",
      "{'loss': 0.2813, 'grad_norm': 4.658689498901367, 'learning_rate': 8.441176470588237e-06, 'epoch': 26.08}\n",
      "{'loss': 0.2987, 'grad_norm': 1.6962554454803467, 'learning_rate': 8.411764705882353e-06, 'epoch': 26.33}\n",
      "{'loss': 0.2721, 'grad_norm': 2.389582633972168, 'learning_rate': 8.382352941176472e-06, 'epoch': 26.58}\n",
      "{'loss': 0.2544, 'grad_norm': 8.112519264221191, 'learning_rate': 8.35294117647059e-06, 'epoch': 26.84}\n"
     ]
    },
    {
     "data": {
      "application/vnd.jupyter.widget-view+json": {
       "model_id": "8fdc461e6e744ceab661dba9fd0eef64",
       "version_major": 2,
       "version_minor": 0
      },
      "text/plain": [
       "  0%|          | 0/20 [00:00<?, ?it/s]"
      ]
     },
     "metadata": {},
     "output_type": "display_data"
    },
    {
     "name": "stdout",
     "output_type": "stream",
     "text": [
      "{'eval_loss': 0.088134765625, 'eval_runtime': 3.7453, 'eval_samples_per_second': 21.093, 'eval_steps_per_second': 5.34, 'epoch': 26.99}\n",
      "{'loss': 0.2615, 'grad_norm': 11.779491424560547, 'learning_rate': 8.323529411764707e-06, 'epoch': 27.09}\n",
      "{'loss': 0.244, 'grad_norm': 1.8143936395645142, 'learning_rate': 8.294117647058825e-06, 'epoch': 27.34}\n",
      "{'loss': 0.2571, 'grad_norm': 3.031076192855835, 'learning_rate': 8.264705882352941e-06, 'epoch': 27.59}\n",
      "{'loss': 0.2126, 'grad_norm': 2.0475692749023438, 'learning_rate': 8.23529411764706e-06, 'epoch': 27.85}\n"
     ]
    },
    {
     "data": {
      "application/vnd.jupyter.widget-view+json": {
       "model_id": "ae6a1b8b2bf747ea8c4c860e91d3d734",
       "version_major": 2,
       "version_minor": 0
      },
      "text/plain": [
       "  0%|          | 0/20 [00:00<?, ?it/s]"
      ]
     },
     "metadata": {},
     "output_type": "display_data"
    },
    {
     "name": "stdout",
     "output_type": "stream",
     "text": [
      "{'eval_loss': 0.084716796875, 'eval_runtime': 3.7613, 'eval_samples_per_second': 21.003, 'eval_steps_per_second': 5.317, 'epoch': 28.0}\n",
      "{'loss': 0.2316, 'grad_norm': 2.7087180614471436, 'learning_rate': 8.205882352941176e-06, 'epoch': 28.1}\n",
      "{'loss': 0.217, 'grad_norm': 2.7310879230499268, 'learning_rate': 8.176470588235295e-06, 'epoch': 28.35}\n",
      "{'loss': 0.2281, 'grad_norm': 0.8258649706840515, 'learning_rate': 8.147058823529413e-06, 'epoch': 28.61}\n",
      "{'loss': 0.2369, 'grad_norm': 11.392423629760742, 'learning_rate': 8.11764705882353e-06, 'epoch': 28.86}\n"
     ]
    },
    {
     "data": {
      "application/vnd.jupyter.widget-view+json": {
       "model_id": "3b2e541e27ab4b2ea52e10c719dcd3a9",
       "version_major": 2,
       "version_minor": 0
      },
      "text/plain": [
       "  0%|          | 0/20 [00:00<?, ?it/s]"
      ]
     },
     "metadata": {},
     "output_type": "display_data"
    },
    {
     "name": "stdout",
     "output_type": "stream",
     "text": [
      "{'eval_loss': 0.07403564453125, 'eval_runtime': 3.7625, 'eval_samples_per_second': 20.996, 'eval_steps_per_second': 5.316, 'epoch': 28.99}\n",
      "{'loss': 0.2109, 'grad_norm': 12.439757347106934, 'learning_rate': 8.088235294117648e-06, 'epoch': 29.11}\n",
      "{'loss': 0.2983, 'grad_norm': 14.861071586608887, 'learning_rate': 8.058823529411766e-06, 'epoch': 29.37}\n",
      "{'loss': 0.2185, 'grad_norm': 0.9910113215446472, 'learning_rate': 8.029411764705883e-06, 'epoch': 29.62}\n",
      "{'loss': 0.2262, 'grad_norm': 10.621084213256836, 'learning_rate': 8.000000000000001e-06, 'epoch': 29.87}\n"
     ]
    },
    {
     "data": {
      "application/vnd.jupyter.widget-view+json": {
       "model_id": "7329c0ccb5904a87b35a21f0d357c430",
       "version_major": 2,
       "version_minor": 0
      },
      "text/plain": [
       "  0%|          | 0/20 [00:00<?, ?it/s]"
      ]
     },
     "metadata": {},
     "output_type": "display_data"
    },
    {
     "name": "stdout",
     "output_type": "stream",
     "text": [
      "{'eval_loss': 0.07208251953125, 'eval_runtime': 3.7667, 'eval_samples_per_second': 20.973, 'eval_steps_per_second': 5.31, 'epoch': 30.0}\n",
      "{'loss': 0.1814, 'grad_norm': 10.192461013793945, 'learning_rate': 7.97058823529412e-06, 'epoch': 30.13}\n",
      "{'loss': 0.182, 'grad_norm': 0.632272481918335, 'learning_rate': 7.941176470588236e-06, 'epoch': 30.38}\n",
      "{'loss': 0.1839, 'grad_norm': 2.3665058612823486, 'learning_rate': 7.911764705882353e-06, 'epoch': 30.63}\n",
      "{'loss': 0.1875, 'grad_norm': 1.0807112455368042, 'learning_rate': 7.882352941176471e-06, 'epoch': 30.89}\n"
     ]
    },
    {
     "data": {
      "application/vnd.jupyter.widget-view+json": {
       "model_id": "2f337e3f349e43a2b97cb86d67f208f6",
       "version_major": 2,
       "version_minor": 0
      },
      "text/plain": [
       "  0%|          | 0/20 [00:00<?, ?it/s]"
      ]
     },
     "metadata": {},
     "output_type": "display_data"
    },
    {
     "name": "stdout",
     "output_type": "stream",
     "text": [
      "{'eval_loss': 0.06396484375, 'eval_runtime': 3.7337, 'eval_samples_per_second': 21.159, 'eval_steps_per_second': 5.357, 'epoch': 30.99}\n",
      "{'loss': 0.1566, 'grad_norm': 1.0810896158218384, 'learning_rate': 7.85294117647059e-06, 'epoch': 31.14}\n",
      "{'loss': 0.1814, 'grad_norm': 3.9142842292785645, 'learning_rate': 7.823529411764706e-06, 'epoch': 31.39}\n",
      "{'loss': 0.1875, 'grad_norm': 11.129483222961426, 'learning_rate': 7.794117647058825e-06, 'epoch': 31.65}\n",
      "{'loss': 0.153, 'grad_norm': 1.0687552690505981, 'learning_rate': 7.764705882352941e-06, 'epoch': 31.9}\n"
     ]
    },
    {
     "data": {
      "application/vnd.jupyter.widget-view+json": {
       "model_id": "14485d13f22a4506b4236164d2da33f0",
       "version_major": 2,
       "version_minor": 0
      },
      "text/plain": [
       "  0%|          | 0/20 [00:00<?, ?it/s]"
      ]
     },
     "metadata": {},
     "output_type": "display_data"
    },
    {
     "name": "stdout",
     "output_type": "stream",
     "text": [
      "{'eval_loss': 0.061431884765625, 'eval_runtime': 3.7445, 'eval_samples_per_second': 21.097, 'eval_steps_per_second': 5.341, 'epoch': 32.0}\n",
      "{'loss': 0.1912, 'grad_norm': 8.057246208190918, 'learning_rate': 7.73529411764706e-06, 'epoch': 32.15}\n",
      "{'loss': 0.1754, 'grad_norm': 28.06083869934082, 'learning_rate': 7.705882352941178e-06, 'epoch': 32.41}\n",
      "{'loss': 0.1772, 'grad_norm': 14.173219680786133, 'learning_rate': 7.676470588235294e-06, 'epoch': 32.66}\n",
      "{'loss': 0.188, 'grad_norm': 11.144795417785645, 'learning_rate': 7.647058823529411e-06, 'epoch': 32.91}\n"
     ]
    },
    {
     "data": {
      "application/vnd.jupyter.widget-view+json": {
       "model_id": "aa76cedd14704e918b93de3db7ab93a0",
       "version_major": 2,
       "version_minor": 0
      },
      "text/plain": [
       "  0%|          | 0/20 [00:00<?, ?it/s]"
      ]
     },
     "metadata": {},
     "output_type": "display_data"
    },
    {
     "name": "stdout",
     "output_type": "stream",
     "text": [
      "{'eval_loss': 0.0634765625, 'eval_runtime': 3.7263, 'eval_samples_per_second': 21.201, 'eval_steps_per_second': 5.367, 'epoch': 32.99}\n",
      "{'loss': 0.1296, 'grad_norm': 6.613488674163818, 'learning_rate': 7.617647058823529e-06, 'epoch': 33.16}\n",
      "{'loss': 0.1863, 'grad_norm': 6.990983486175537, 'learning_rate': 7.588235294117648e-06, 'epoch': 33.42}\n",
      "{'loss': 0.1483, 'grad_norm': 1.9257797002792358, 'learning_rate': 7.558823529411765e-06, 'epoch': 33.67}\n",
      "{'loss': 0.1332, 'grad_norm': 4.735260009765625, 'learning_rate': 7.529411764705883e-06, 'epoch': 33.92}\n"
     ]
    },
    {
     "data": {
      "application/vnd.jupyter.widget-view+json": {
       "model_id": "f16fdae643204c2b92c7d468708b96b0",
       "version_major": 2,
       "version_minor": 0
      },
      "text/plain": [
       "  0%|          | 0/20 [00:00<?, ?it/s]"
      ]
     },
     "metadata": {},
     "output_type": "display_data"
    },
    {
     "name": "stdout",
     "output_type": "stream",
     "text": [
      "{'eval_loss': 0.06500244140625, 'eval_runtime': 3.7476, 'eval_samples_per_second': 21.08, 'eval_steps_per_second': 5.337, 'epoch': 34.0}\n",
      "{'loss': 0.1919, 'grad_norm': 6.869789123535156, 'learning_rate': 7.500000000000001e-06, 'epoch': 34.18}\n",
      "{'loss': 0.1387, 'grad_norm': 0.5002654790878296, 'learning_rate': 7.4705882352941185e-06, 'epoch': 34.43}\n",
      "{'loss': 0.1353, 'grad_norm': 1.0437036752700806, 'learning_rate': 7.441176470588236e-06, 'epoch': 34.68}\n",
      "{'loss': 0.1229, 'grad_norm': 1.3897355794906616, 'learning_rate': 7.4117647058823535e-06, 'epoch': 34.94}\n"
     ]
    },
    {
     "data": {
      "application/vnd.jupyter.widget-view+json": {
       "model_id": "56e61994ce80432d8dbeb196d1642218",
       "version_major": 2,
       "version_minor": 0
      },
      "text/plain": [
       "  0%|          | 0/20 [00:00<?, ?it/s]"
      ]
     },
     "metadata": {},
     "output_type": "display_data"
    },
    {
     "name": "stdout",
     "output_type": "stream",
     "text": [
      "{'eval_loss': 0.058074951171875, 'eval_runtime': 3.7685, 'eval_samples_per_second': 20.963, 'eval_steps_per_second': 5.307, 'epoch': 34.99}\n",
      "{'loss': 0.1512, 'grad_norm': 8.667746543884277, 'learning_rate': 7.382352941176472e-06, 'epoch': 35.19}\n",
      "{'loss': 0.126, 'grad_norm': 0.7815874814987183, 'learning_rate': 7.352941176470589e-06, 'epoch': 35.44}\n",
      "{'loss': 0.1483, 'grad_norm': 0.4183967709541321, 'learning_rate': 7.323529411764706e-06, 'epoch': 35.7}\n",
      "{'loss': 0.1621, 'grad_norm': 0.5605475902557373, 'learning_rate': 7.294117647058823e-06, 'epoch': 35.95}\n"
     ]
    },
    {
     "data": {
      "application/vnd.jupyter.widget-view+json": {
       "model_id": "198ec7af67324515b70412523e1c50b3",
       "version_major": 2,
       "version_minor": 0
      },
      "text/plain": [
       "  0%|          | 0/20 [00:00<?, ?it/s]"
      ]
     },
     "metadata": {},
     "output_type": "display_data"
    },
    {
     "name": "stdout",
     "output_type": "stream",
     "text": [
      "{'eval_loss': 0.05657958984375, 'eval_runtime': 3.7661, 'eval_samples_per_second': 20.977, 'eval_steps_per_second': 5.311, 'epoch': 36.0}\n",
      "{'loss': 0.1526, 'grad_norm': 1.6493624448776245, 'learning_rate': 7.264705882352942e-06, 'epoch': 36.2}\n",
      "{'loss': 0.117, 'grad_norm': 0.4758888781070709, 'learning_rate': 7.235294117647059e-06, 'epoch': 36.46}\n",
      "{'loss': 0.1323, 'grad_norm': 1.5177111625671387, 'learning_rate': 7.205882352941177e-06, 'epoch': 36.71}\n",
      "{'loss': 0.172, 'grad_norm': 3.505115032196045, 'learning_rate': 7.176470588235295e-06, 'epoch': 36.96}\n"
     ]
    },
    {
     "data": {
      "application/vnd.jupyter.widget-view+json": {
       "model_id": "5b27bd81aff5412bbd464ca50f048dda",
       "version_major": 2,
       "version_minor": 0
      },
      "text/plain": [
       "  0%|          | 0/20 [00:00<?, ?it/s]"
      ]
     },
     "metadata": {},
     "output_type": "display_data"
    },
    {
     "name": "stdout",
     "output_type": "stream",
     "text": [
      "{'eval_loss': 0.05535888671875, 'eval_runtime': 3.7674, 'eval_samples_per_second': 20.97, 'eval_steps_per_second': 5.309, 'epoch': 36.99}\n",
      "{'loss': 0.1284, 'grad_norm': 5.957803249359131, 'learning_rate': 7.1470588235294125e-06, 'epoch': 37.22}\n",
      "{'loss': 0.1492, 'grad_norm': 0.698957622051239, 'learning_rate': 7.11764705882353e-06, 'epoch': 37.47}\n",
      "{'loss': 0.1467, 'grad_norm': 1.2607053518295288, 'learning_rate': 7.088235294117648e-06, 'epoch': 37.72}\n",
      "{'loss': 0.0974, 'grad_norm': 0.27223312854766846, 'learning_rate': 7.058823529411766e-06, 'epoch': 37.97}\n"
     ]
    },
    {
     "data": {
      "application/vnd.jupyter.widget-view+json": {
       "model_id": "ed04b417cf92480580a92bd1bcc3c782",
       "version_major": 2,
       "version_minor": 0
      },
      "text/plain": [
       "  0%|          | 0/20 [00:00<?, ?it/s]"
      ]
     },
     "metadata": {},
     "output_type": "display_data"
    },
    {
     "name": "stdout",
     "output_type": "stream",
     "text": [
      "{'eval_loss': 0.04791259765625, 'eval_runtime': 3.7902, 'eval_samples_per_second': 20.843, 'eval_steps_per_second': 5.277, 'epoch': 38.0}\n",
      "{'loss': 0.1528, 'grad_norm': 1.2393949031829834, 'learning_rate': 7.029411764705882e-06, 'epoch': 38.23}\n",
      "{'loss': 0.0984, 'grad_norm': 2.280151128768921, 'learning_rate': 7e-06, 'epoch': 38.48}\n",
      "{'loss': 0.0917, 'grad_norm': 7.581485271453857, 'learning_rate': 6.970588235294118e-06, 'epoch': 38.73}\n",
      "{'loss': 0.1596, 'grad_norm': 3.8657734394073486, 'learning_rate': 6.941176470588236e-06, 'epoch': 38.99}\n"
     ]
    },
    {
     "data": {
      "application/vnd.jupyter.widget-view+json": {
       "model_id": "b5656cf8b1564e57900b78c8ee4678d5",
       "version_major": 2,
       "version_minor": 0
      },
      "text/plain": [
       "  0%|          | 0/20 [00:00<?, ?it/s]"
      ]
     },
     "metadata": {},
     "output_type": "display_data"
    },
    {
     "name": "stdout",
     "output_type": "stream",
     "text": [
      "{'eval_loss': 0.05255126953125, 'eval_runtime': 3.7305, 'eval_samples_per_second': 21.177, 'eval_steps_per_second': 5.361, 'epoch': 38.99}\n",
      "{'loss': 0.1132, 'grad_norm': 0.6896464228630066, 'learning_rate': 6.911764705882353e-06, 'epoch': 39.24}\n",
      "{'loss': 0.1516, 'grad_norm': 0.9885644316673279, 'learning_rate': 6.8823529411764715e-06, 'epoch': 39.49}\n",
      "{'loss': 0.1531, 'grad_norm': 0.5565072298049927, 'learning_rate': 6.852941176470589e-06, 'epoch': 39.75}\n",
      "{'loss': 0.0879, 'grad_norm': 0.3671169579029083, 'learning_rate': 6.8235294117647065e-06, 'epoch': 40.0}\n"
     ]
    },
    {
     "data": {
      "application/vnd.jupyter.widget-view+json": {
       "model_id": "66a1f0b0698b4b4891c8df118e465087",
       "version_major": 2,
       "version_minor": 0
      },
      "text/plain": [
       "  0%|          | 0/20 [00:00<?, ?it/s]"
      ]
     },
     "metadata": {},
     "output_type": "display_data"
    },
    {
     "name": "stdout",
     "output_type": "stream",
     "text": [
      "{'eval_loss': 0.0478515625, 'eval_runtime': 3.7802, 'eval_samples_per_second': 20.898, 'eval_steps_per_second': 5.291, 'epoch': 40.0}\n",
      "{'loss': 0.0944, 'grad_norm': 1.2297841310501099, 'learning_rate': 6.794117647058824e-06, 'epoch': 40.25}\n",
      "{'loss': 0.1152, 'grad_norm': 1.6553122997283936, 'learning_rate': 6.764705882352942e-06, 'epoch': 40.51}\n",
      "{'loss': 0.1415, 'grad_norm': 0.30323776602745056, 'learning_rate': 6.73529411764706e-06, 'epoch': 40.76}\n"
     ]
    },
    {
     "data": {
      "application/vnd.jupyter.widget-view+json": {
       "model_id": "65f569cf9b1147f5ba78fabab067ce77",
       "version_major": 2,
       "version_minor": 0
      },
      "text/plain": [
       "  0%|          | 0/20 [00:00<?, ?it/s]"
      ]
     },
     "metadata": {},
     "output_type": "display_data"
    },
    {
     "name": "stdout",
     "output_type": "stream",
     "text": [
      "{'eval_loss': 0.046630859375, 'eval_runtime': 3.7361, 'eval_samples_per_second': 21.145, 'eval_steps_per_second': 5.353, 'epoch': 40.99}\n",
      "{'loss': 0.1179, 'grad_norm': 0.6508743166923523, 'learning_rate': 6.705882352941176e-06, 'epoch': 41.01}\n",
      "{'loss': 0.0981, 'grad_norm': 5.424247741699219, 'learning_rate': 6.676470588235294e-06, 'epoch': 41.27}\n",
      "{'loss': 0.0878, 'grad_norm': 0.4056694507598877, 'learning_rate': 6.647058823529412e-06, 'epoch': 41.52}\n",
      "{'loss': 0.1184, 'grad_norm': 0.6159651279449463, 'learning_rate': 6.61764705882353e-06, 'epoch': 41.77}\n"
     ]
    },
    {
     "data": {
      "application/vnd.jupyter.widget-view+json": {
       "model_id": "a54cc095f3c944038562c21ef767f5cc",
       "version_major": 2,
       "version_minor": 0
      },
      "text/plain": [
       "  0%|          | 0/20 [00:00<?, ?it/s]"
      ]
     },
     "metadata": {},
     "output_type": "display_data"
    },
    {
     "name": "stdout",
     "output_type": "stream",
     "text": [
      "{'eval_loss': 0.0455322265625, 'eval_runtime': 3.7588, 'eval_samples_per_second': 21.017, 'eval_steps_per_second': 5.321, 'epoch': 42.0}\n",
      "{'loss': 0.0792, 'grad_norm': 0.4159683883190155, 'learning_rate': 6.588235294117647e-06, 'epoch': 42.03}\n",
      "{'loss': 0.1275, 'grad_norm': 2.000248432159424, 'learning_rate': 6.5588235294117655e-06, 'epoch': 42.28}\n",
      "{'loss': 0.104, 'grad_norm': 2.5197527408599854, 'learning_rate': 6.529411764705883e-06, 'epoch': 42.53}\n",
      "{'loss': 0.084, 'grad_norm': 0.28466692566871643, 'learning_rate': 6.5000000000000004e-06, 'epoch': 42.78}\n"
     ]
    },
    {
     "data": {
      "application/vnd.jupyter.widget-view+json": {
       "model_id": "f77372017ce14187bfe9a2ec899c8e5d",
       "version_major": 2,
       "version_minor": 0
      },
      "text/plain": [
       "  0%|          | 0/20 [00:00<?, ?it/s]"
      ]
     },
     "metadata": {},
     "output_type": "display_data"
    },
    {
     "name": "stdout",
     "output_type": "stream",
     "text": [
      "{'eval_loss': 0.04437255859375, 'eval_runtime': 3.7502, 'eval_samples_per_second': 21.066, 'eval_steps_per_second': 5.333, 'epoch': 42.99}\n",
      "{'loss': 0.0855, 'grad_norm': 0.5935562252998352, 'learning_rate': 6.470588235294119e-06, 'epoch': 43.04}\n",
      "{'loss': 0.0929, 'grad_norm': 14.201942443847656, 'learning_rate': 6.441176470588236e-06, 'epoch': 43.29}\n",
      "{'loss': 0.1052, 'grad_norm': 5.344651222229004, 'learning_rate': 6.411764705882354e-06, 'epoch': 43.54}\n",
      "{'loss': 0.1072, 'grad_norm': 3.3460686206817627, 'learning_rate': 6.38235294117647e-06, 'epoch': 43.8}\n"
     ]
    },
    {
     "data": {
      "application/vnd.jupyter.widget-view+json": {
       "model_id": "0823cf8b358e4199aebfa3682a9bc2e4",
       "version_major": 2,
       "version_minor": 0
      },
      "text/plain": [
       "  0%|          | 0/20 [00:00<?, ?it/s]"
      ]
     },
     "metadata": {},
     "output_type": "display_data"
    },
    {
     "name": "stdout",
     "output_type": "stream",
     "text": [
      "{'eval_loss': 0.04388427734375, 'eval_runtime': 3.7603, 'eval_samples_per_second': 21.009, 'eval_steps_per_second': 5.319, 'epoch': 44.0}\n",
      "{'loss': 0.0899, 'grad_norm': 0.6310524940490723, 'learning_rate': 6.352941176470589e-06, 'epoch': 44.05}\n",
      "{'loss': 0.102, 'grad_norm': 2.7457163333892822, 'learning_rate': 6.323529411764706e-06, 'epoch': 44.3}\n",
      "{'loss': 0.0791, 'grad_norm': 0.47622188925743103, 'learning_rate': 6.294117647058824e-06, 'epoch': 44.56}\n",
      "{'loss': 0.0907, 'grad_norm': 6.957361698150635, 'learning_rate': 6.264705882352942e-06, 'epoch': 44.81}\n"
     ]
    },
    {
     "data": {
      "application/vnd.jupyter.widget-view+json": {
       "model_id": "d3e9cd2ceaea4afb9df363f6019d5fe1",
       "version_major": 2,
       "version_minor": 0
      },
      "text/plain": [
       "  0%|          | 0/20 [00:00<?, ?it/s]"
      ]
     },
     "metadata": {},
     "output_type": "display_data"
    },
    {
     "name": "stdout",
     "output_type": "stream",
     "text": [
      "{'eval_loss': 0.04095458984375, 'eval_runtime': 3.7337, 'eval_samples_per_second': 21.158, 'eval_steps_per_second': 5.357, 'epoch': 44.99}\n",
      "{'loss': 0.0784, 'grad_norm': 1.566555142402649, 'learning_rate': 6.2352941176470595e-06, 'epoch': 45.06}\n",
      "{'loss': 0.0953, 'grad_norm': 1.2598110437393188, 'learning_rate': 6.205882352941177e-06, 'epoch': 45.32}\n",
      "{'loss': 0.0925, 'grad_norm': 8.703981399536133, 'learning_rate': 6.176470588235295e-06, 'epoch': 45.57}\n",
      "{'loss': 0.0822, 'grad_norm': 0.2748333215713501, 'learning_rate': 6.147058823529413e-06, 'epoch': 45.82}\n"
     ]
    },
    {
     "data": {
      "application/vnd.jupyter.widget-view+json": {
       "model_id": "c27c63f1aa854fecbfe47579891143d6",
       "version_major": 2,
       "version_minor": 0
      },
      "text/plain": [
       "  0%|          | 0/20 [00:00<?, ?it/s]"
      ]
     },
     "metadata": {},
     "output_type": "display_data"
    },
    {
     "name": "stdout",
     "output_type": "stream",
     "text": [
      "{'eval_loss': 0.04754638671875, 'eval_runtime': 3.7488, 'eval_samples_per_second': 21.074, 'eval_steps_per_second': 5.335, 'epoch': 46.0}\n",
      "{'loss': 0.0937, 'grad_norm': 3.7529144287109375, 'learning_rate': 6.11764705882353e-06, 'epoch': 46.08}\n",
      "{'loss': 0.0838, 'grad_norm': 1.048149824142456, 'learning_rate': 6.088235294117647e-06, 'epoch': 46.33}\n",
      "{'loss': 0.0916, 'grad_norm': 0.3250716030597687, 'learning_rate': 6.058823529411765e-06, 'epoch': 46.58}\n",
      "{'loss': 0.0954, 'grad_norm': 8.884241104125977, 'learning_rate': 6.029411764705883e-06, 'epoch': 46.84}\n"
     ]
    },
    {
     "data": {
      "application/vnd.jupyter.widget-view+json": {
       "model_id": "37e509dd65b5420dbf0c7939af7b89d9",
       "version_major": 2,
       "version_minor": 0
      },
      "text/plain": [
       "  0%|          | 0/20 [00:00<?, ?it/s]"
      ]
     },
     "metadata": {},
     "output_type": "display_data"
    },
    {
     "name": "stdout",
     "output_type": "stream",
     "text": [
      "{'eval_loss': 0.038818359375, 'eval_runtime': 3.7608, 'eval_samples_per_second': 21.006, 'eval_steps_per_second': 5.318, 'epoch': 46.99}\n",
      "{'loss': 0.0686, 'grad_norm': 0.8789820075035095, 'learning_rate': 6e-06, 'epoch': 47.09}\n",
      "{'loss': 0.0767, 'grad_norm': 1.2642624378204346, 'learning_rate': 5.970588235294118e-06, 'epoch': 47.34}\n",
      "{'loss': 0.0924, 'grad_norm': 8.606264114379883, 'learning_rate': 5.941176470588236e-06, 'epoch': 47.59}\n",
      "{'loss': 0.1227, 'grad_norm': 0.3075428605079651, 'learning_rate': 5.9117647058823534e-06, 'epoch': 47.85}\n"
     ]
    },
    {
     "data": {
      "application/vnd.jupyter.widget-view+json": {
       "model_id": "8e2d1dcc42de49efa7f0731e5b0d9962",
       "version_major": 2,
       "version_minor": 0
      },
      "text/plain": [
       "  0%|          | 0/20 [00:00<?, ?it/s]"
      ]
     },
     "metadata": {},
     "output_type": "display_data"
    },
    {
     "name": "stdout",
     "output_type": "stream",
     "text": [
      "{'eval_loss': 0.039398193359375, 'eval_runtime': 3.7486, 'eval_samples_per_second': 21.074, 'eval_steps_per_second': 5.335, 'epoch': 48.0}\n",
      "{'loss': 0.1062, 'grad_norm': 0.3870527148246765, 'learning_rate': 5.882352941176471e-06, 'epoch': 48.1}\n",
      "{'loss': 0.0825, 'grad_norm': 4.196523189544678, 'learning_rate': 5.852941176470589e-06, 'epoch': 48.35}\n",
      "{'loss': 0.067, 'grad_norm': 0.2580443322658539, 'learning_rate': 5.823529411764707e-06, 'epoch': 48.61}\n",
      "{'loss': 0.0603, 'grad_norm': 0.31318411231040955, 'learning_rate': 5.794117647058824e-06, 'epoch': 48.86}\n"
     ]
    },
    {
     "data": {
      "application/vnd.jupyter.widget-view+json": {
       "model_id": "04b8ec7ee2fe41b499c7210f0ad51b88",
       "version_major": 2,
       "version_minor": 0
      },
      "text/plain": [
       "  0%|          | 0/20 [00:00<?, ?it/s]"
      ]
     },
     "metadata": {},
     "output_type": "display_data"
    },
    {
     "name": "stdout",
     "output_type": "stream",
     "text": [
      "{'eval_loss': 0.03240966796875, 'eval_runtime': 3.7501, 'eval_samples_per_second': 21.066, 'eval_steps_per_second': 5.333, 'epoch': 48.99}\n",
      "{'loss': 0.0961, 'grad_norm': 0.3946987986564636, 'learning_rate': 5.764705882352941e-06, 'epoch': 49.11}\n",
      "{'loss': 0.0744, 'grad_norm': 1.3646858930587769, 'learning_rate': 5.735294117647059e-06, 'epoch': 49.37}\n",
      "{'loss': 0.0754, 'grad_norm': 0.542499840259552, 'learning_rate': 5.705882352941177e-06, 'epoch': 49.62}\n",
      "{'loss': 0.085, 'grad_norm': 3.3806848526000977, 'learning_rate': 5.676470588235294e-06, 'epoch': 49.87}\n"
     ]
    },
    {
     "data": {
      "application/vnd.jupyter.widget-view+json": {
       "model_id": "d378c1cad8ea44b6828c35eb2e8d4c85",
       "version_major": 2,
       "version_minor": 0
      },
      "text/plain": [
       "  0%|          | 0/20 [00:00<?, ?it/s]"
      ]
     },
     "metadata": {},
     "output_type": "display_data"
    },
    {
     "name": "stdout",
     "output_type": "stream",
     "text": [
      "{'eval_loss': 0.032684326171875, 'eval_runtime': 3.7581, 'eval_samples_per_second': 21.021, 'eval_steps_per_second': 5.322, 'epoch': 50.0}\n",
      "{'loss': 0.0902, 'grad_norm': 0.2942145764827728, 'learning_rate': 5.6470588235294125e-06, 'epoch': 50.13}\n",
      "{'loss': 0.064, 'grad_norm': 2.2807557582855225, 'learning_rate': 5.61764705882353e-06, 'epoch': 50.38}\n",
      "{'loss': 0.095, 'grad_norm': 0.3635390102863312, 'learning_rate': 5.588235294117647e-06, 'epoch': 50.63}\n",
      "{'loss': 0.0819, 'grad_norm': 1.5549312829971313, 'learning_rate': 5.558823529411766e-06, 'epoch': 50.89}\n"
     ]
    },
    {
     "data": {
      "application/vnd.jupyter.widget-view+json": {
       "model_id": "20f9c92248064b67ba9ca5e774bcc9a0",
       "version_major": 2,
       "version_minor": 0
      },
      "text/plain": [
       "  0%|          | 0/20 [00:00<?, ?it/s]"
      ]
     },
     "metadata": {},
     "output_type": "display_data"
    },
    {
     "name": "stdout",
     "output_type": "stream",
     "text": [
      "{'eval_loss': 0.036376953125, 'eval_runtime': 3.7362, 'eval_samples_per_second': 21.145, 'eval_steps_per_second': 5.353, 'epoch': 50.99}\n",
      "{'loss': 0.0773, 'grad_norm': 0.18092378973960876, 'learning_rate': 5.529411764705883e-06, 'epoch': 51.14}\n",
      "{'loss': 0.0707, 'grad_norm': 0.2521097660064697, 'learning_rate': 5.500000000000001e-06, 'epoch': 51.39}\n",
      "{'loss': 0.0577, 'grad_norm': 0.37052327394485474, 'learning_rate': 5.470588235294119e-06, 'epoch': 51.65}\n",
      "{'loss': 0.097, 'grad_norm': 0.6510228514671326, 'learning_rate': 5.441176470588236e-06, 'epoch': 51.9}\n"
     ]
    },
    {
     "data": {
      "application/vnd.jupyter.widget-view+json": {
       "model_id": "a6969ae93f89406084c20d857924a788",
       "version_major": 2,
       "version_minor": 0
      },
      "text/plain": [
       "  0%|          | 0/20 [00:00<?, ?it/s]"
      ]
     },
     "metadata": {},
     "output_type": "display_data"
    },
    {
     "name": "stdout",
     "output_type": "stream",
     "text": [
      "{'eval_loss': 0.0296630859375, 'eval_runtime': 3.7721, 'eval_samples_per_second': 20.943, 'eval_steps_per_second': 5.302, 'epoch': 52.0}\n",
      "{'loss': 0.0771, 'grad_norm': 2.385124683380127, 'learning_rate': 5.411764705882353e-06, 'epoch': 52.15}\n",
      "{'loss': 0.0643, 'grad_norm': 3.9934170246124268, 'learning_rate': 5.382352941176471e-06, 'epoch': 52.41}\n",
      "{'loss': 0.0657, 'grad_norm': 1.9415193796157837, 'learning_rate': 5.352941176470589e-06, 'epoch': 52.66}\n",
      "{'loss': 0.0877, 'grad_norm': 3.5034282207489014, 'learning_rate': 5.3235294117647064e-06, 'epoch': 52.91}\n"
     ]
    },
    {
     "data": {
      "application/vnd.jupyter.widget-view+json": {
       "model_id": "79bb4909842f4ddca85d100e221ce139",
       "version_major": 2,
       "version_minor": 0
      },
      "text/plain": [
       "  0%|          | 0/20 [00:00<?, ?it/s]"
      ]
     },
     "metadata": {},
     "output_type": "display_data"
    },
    {
     "name": "stdout",
     "output_type": "stream",
     "text": [
      "{'eval_loss': 0.029296875, 'eval_runtime': 3.7388, 'eval_samples_per_second': 21.13, 'eval_steps_per_second': 5.349, 'epoch': 52.99}\n",
      "{'loss': 0.0756, 'grad_norm': 0.9069392085075378, 'learning_rate': 5.294117647058824e-06, 'epoch': 53.16}\n",
      "{'loss': 0.0764, 'grad_norm': 0.23268069326877594, 'learning_rate': 5.264705882352941e-06, 'epoch': 53.42}\n",
      "{'loss': 0.0802, 'grad_norm': 0.26809465885162354, 'learning_rate': 5.23529411764706e-06, 'epoch': 53.67}\n",
      "{'loss': 0.0624, 'grad_norm': 0.7182593941688538, 'learning_rate': 5.205882352941177e-06, 'epoch': 53.92}\n"
     ]
    },
    {
     "data": {
      "application/vnd.jupyter.widget-view+json": {
       "model_id": "65580aa8da884bb286fd0bcd6529b745",
       "version_major": 2,
       "version_minor": 0
      },
      "text/plain": [
       "  0%|          | 0/20 [00:00<?, ?it/s]"
      ]
     },
     "metadata": {},
     "output_type": "display_data"
    },
    {
     "name": "stdout",
     "output_type": "stream",
     "text": [
      "{'eval_loss': 0.027740478515625, 'eval_runtime': 3.7604, 'eval_samples_per_second': 21.008, 'eval_steps_per_second': 5.319, 'epoch': 54.0}\n",
      "{'loss': 0.0969, 'grad_norm': 16.470149993896484, 'learning_rate': 5.176470588235295e-06, 'epoch': 54.18}\n",
      "{'loss': 0.0906, 'grad_norm': 0.27521589398384094, 'learning_rate': 5.147058823529411e-06, 'epoch': 54.43}\n",
      "{'loss': 0.0658, 'grad_norm': 2.8875017166137695, 'learning_rate': 5.11764705882353e-06, 'epoch': 54.68}\n",
      "{'loss': 0.0747, 'grad_norm': 2.271932601928711, 'learning_rate': 5.088235294117647e-06, 'epoch': 54.94}\n"
     ]
    },
    {
     "data": {
      "application/vnd.jupyter.widget-view+json": {
       "model_id": "7f07c9f4f521448a9fa9cfe5c65240d2",
       "version_major": 2,
       "version_minor": 0
      },
      "text/plain": [
       "  0%|          | 0/20 [00:00<?, ?it/s]"
      ]
     },
     "metadata": {},
     "output_type": "display_data"
    },
    {
     "name": "stdout",
     "output_type": "stream",
     "text": [
      "{'eval_loss': 0.0279388427734375, 'eval_runtime': 3.7971, 'eval_samples_per_second': 20.805, 'eval_steps_per_second': 5.267, 'epoch': 54.99}\n",
      "{'loss': 0.0718, 'grad_norm': 0.24694572389125824, 'learning_rate': 5.058823529411765e-06, 'epoch': 55.19}\n",
      "{'loss': 0.0531, 'grad_norm': 0.18990842998027802, 'learning_rate': 5.029411764705883e-06, 'epoch': 55.44}\n",
      "{'loss': 0.0824, 'grad_norm': 11.195291519165039, 'learning_rate': 5e-06, 'epoch': 55.7}\n",
      "{'loss': 0.0728, 'grad_norm': 0.6223636269569397, 'learning_rate': 4.970588235294118e-06, 'epoch': 55.95}\n"
     ]
    },
    {
     "data": {
      "application/vnd.jupyter.widget-view+json": {
       "model_id": "bf234b7fb62440bab89399ddeb3901ec",
       "version_major": 2,
       "version_minor": 0
      },
      "text/plain": [
       "  0%|          | 0/20 [00:00<?, ?it/s]"
      ]
     },
     "metadata": {},
     "output_type": "display_data"
    },
    {
     "name": "stdout",
     "output_type": "stream",
     "text": [
      "{'eval_loss': 0.0275726318359375, 'eval_runtime': 3.7472, 'eval_samples_per_second': 21.082, 'eval_steps_per_second': 5.337, 'epoch': 56.0}\n",
      "{'loss': 0.0532, 'grad_norm': 0.33050549030303955, 'learning_rate': 4.941176470588236e-06, 'epoch': 56.2}\n",
      "{'loss': 0.0647, 'grad_norm': 3.5858068466186523, 'learning_rate': 4.911764705882353e-06, 'epoch': 56.46}\n",
      "{'loss': 0.0524, 'grad_norm': 0.49543359875679016, 'learning_rate': 4.882352941176471e-06, 'epoch': 56.71}\n",
      "{'loss': 0.0902, 'grad_norm': 11.865840911865234, 'learning_rate': 4.852941176470589e-06, 'epoch': 56.96}\n"
     ]
    },
    {
     "data": {
      "application/vnd.jupyter.widget-view+json": {
       "model_id": "a8bea2d8129146399f1de28a60adb606",
       "version_major": 2,
       "version_minor": 0
      },
      "text/plain": [
       "  0%|          | 0/20 [00:00<?, ?it/s]"
      ]
     },
     "metadata": {},
     "output_type": "display_data"
    },
    {
     "name": "stdout",
     "output_type": "stream",
     "text": [
      "{'eval_loss': 0.024078369140625, 'eval_runtime': 3.7632, 'eval_samples_per_second': 20.993, 'eval_steps_per_second': 5.315, 'epoch': 56.99}\n",
      "{'loss': 0.0786, 'grad_norm': 6.704514026641846, 'learning_rate': 4.823529411764706e-06, 'epoch': 57.22}\n",
      "{'loss': 0.0523, 'grad_norm': 0.24342191219329834, 'learning_rate': 4.7941176470588245e-06, 'epoch': 57.47}\n",
      "{'loss': 0.1128, 'grad_norm': 0.2989838123321533, 'learning_rate': 4.764705882352941e-06, 'epoch': 57.72}\n",
      "{'loss': 0.1207, 'grad_norm': 0.9586973786354065, 'learning_rate': 4.7352941176470594e-06, 'epoch': 57.97}\n"
     ]
    },
    {
     "data": {
      "application/vnd.jupyter.widget-view+json": {
       "model_id": "d950932bd3d8491f89ae39beef294bcb",
       "version_major": 2,
       "version_minor": 0
      },
      "text/plain": [
       "  0%|          | 0/20 [00:00<?, ?it/s]"
      ]
     },
     "metadata": {},
     "output_type": "display_data"
    },
    {
     "name": "stdout",
     "output_type": "stream",
     "text": [
      "{'eval_loss': 0.023468017578125, 'eval_runtime': 3.7361, 'eval_samples_per_second': 21.145, 'eval_steps_per_second': 5.353, 'epoch': 58.0}\n",
      "{'loss': 0.0634, 'grad_norm': 2.0772173404693604, 'learning_rate': 4.705882352941177e-06, 'epoch': 58.23}\n",
      "{'loss': 0.0785, 'grad_norm': 16.97334861755371, 'learning_rate': 4.676470588235294e-06, 'epoch': 58.48}\n",
      "{'loss': 0.0828, 'grad_norm': 8.804927825927734, 'learning_rate': 4.647058823529412e-06, 'epoch': 58.73}\n",
      "{'loss': 0.0537, 'grad_norm': 0.2211749106645584, 'learning_rate': 4.61764705882353e-06, 'epoch': 58.99}\n"
     ]
    },
    {
     "data": {
      "application/vnd.jupyter.widget-view+json": {
       "model_id": "f15ba447ab624055938f8aca16c582a4",
       "version_major": 2,
       "version_minor": 0
      },
      "text/plain": [
       "  0%|          | 0/20 [00:00<?, ?it/s]"
      ]
     },
     "metadata": {},
     "output_type": "display_data"
    },
    {
     "name": "stdout",
     "output_type": "stream",
     "text": [
      "{'eval_loss': 0.024749755859375, 'eval_runtime': 3.8017, 'eval_samples_per_second': 20.78, 'eval_steps_per_second': 5.261, 'epoch': 58.99}\n",
      "{'loss': 0.0736, 'grad_norm': 12.055546760559082, 'learning_rate': 4.588235294117647e-06, 'epoch': 59.24}\n",
      "{'loss': 0.0596, 'grad_norm': 0.3977431058883667, 'learning_rate': 4.558823529411765e-06, 'epoch': 59.49}\n",
      "{'loss': 0.0628, 'grad_norm': 9.455350875854492, 'learning_rate': 4.529411764705883e-06, 'epoch': 59.75}\n",
      "{'loss': 0.0707, 'grad_norm': 0.8302450180053711, 'learning_rate': 4.5e-06, 'epoch': 60.0}\n"
     ]
    },
    {
     "data": {
      "application/vnd.jupyter.widget-view+json": {
       "model_id": "41efea98d5694fa9ae95d9e51f00dd3e",
       "version_major": 2,
       "version_minor": 0
      },
      "text/plain": [
       "  0%|          | 0/20 [00:00<?, ?it/s]"
      ]
     },
     "metadata": {},
     "output_type": "display_data"
    },
    {
     "name": "stdout",
     "output_type": "stream",
     "text": [
      "{'eval_loss': 0.0223388671875, 'eval_runtime': 3.8145, 'eval_samples_per_second': 20.71, 'eval_steps_per_second': 5.243, 'epoch': 60.0}\n",
      "{'loss': 0.0542, 'grad_norm': 0.32375234365463257, 'learning_rate': 4.4705882352941184e-06, 'epoch': 60.25}\n",
      "{'loss': 0.0685, 'grad_norm': 9.981867790222168, 'learning_rate': 4.441176470588235e-06, 'epoch': 60.51}\n",
      "{'loss': 0.0803, 'grad_norm': 0.46543118357658386, 'learning_rate': 4.411764705882353e-06, 'epoch': 60.76}\n"
     ]
    },
    {
     "data": {
      "application/vnd.jupyter.widget-view+json": {
       "model_id": "20ea1b45aca54a8dbeb647bffe16e8d6",
       "version_major": 2,
       "version_minor": 0
      },
      "text/plain": [
       "  0%|          | 0/20 [00:00<?, ?it/s]"
      ]
     },
     "metadata": {},
     "output_type": "display_data"
    },
    {
     "name": "stdout",
     "output_type": "stream",
     "text": [
      "{'eval_loss': 0.0216827392578125, 'eval_runtime': 3.7974, 'eval_samples_per_second': 20.804, 'eval_steps_per_second': 5.267, 'epoch': 60.99}\n",
      "{'loss': 0.0612, 'grad_norm': 0.25521624088287354, 'learning_rate': 4.382352941176471e-06, 'epoch': 61.01}\n",
      "{'loss': 0.0606, 'grad_norm': 12.733938217163086, 'learning_rate': 4.352941176470588e-06, 'epoch': 61.27}\n",
      "{'loss': 0.0738, 'grad_norm': 12.561076164245605, 'learning_rate': 4.323529411764707e-06, 'epoch': 61.52}\n",
      "{'loss': 0.0686, 'grad_norm': 0.8191765546798706, 'learning_rate': 4.294117647058823e-06, 'epoch': 61.77}\n"
     ]
    },
    {
     "data": {
      "application/vnd.jupyter.widget-view+json": {
       "model_id": "3d262d9e6e294bfeb8b3d6b255cc57d5",
       "version_major": 2,
       "version_minor": 0
      },
      "text/plain": [
       "  0%|          | 0/20 [00:00<?, ?it/s]"
      ]
     },
     "metadata": {},
     "output_type": "display_data"
    },
    {
     "name": "stdout",
     "output_type": "stream",
     "text": [
      "{'eval_loss': 0.0205078125, 'eval_runtime': 3.8124, 'eval_samples_per_second': 20.722, 'eval_steps_per_second': 5.246, 'epoch': 62.0}\n",
      "{'loss': 0.0527, 'grad_norm': 1.776363730430603, 'learning_rate': 4.264705882352942e-06, 'epoch': 62.03}\n",
      "{'loss': 0.0536, 'grad_norm': 0.2723003029823303, 'learning_rate': 4.235294117647059e-06, 'epoch': 62.28}\n",
      "{'loss': 0.0455, 'grad_norm': 0.2202969789505005, 'learning_rate': 4.205882352941177e-06, 'epoch': 62.53}\n",
      "{'loss': 0.0575, 'grad_norm': 0.4425694942474365, 'learning_rate': 4.176470588235295e-06, 'epoch': 62.78}\n"
     ]
    },
    {
     "data": {
      "application/vnd.jupyter.widget-view+json": {
       "model_id": "ab8fc107c30b499f8f63459e02e17875",
       "version_major": 2,
       "version_minor": 0
      },
      "text/plain": [
       "  0%|          | 0/20 [00:00<?, ?it/s]"
      ]
     },
     "metadata": {},
     "output_type": "display_data"
    },
    {
     "name": "stdout",
     "output_type": "stream",
     "text": [
      "{'eval_loss': 0.01947021484375, 'eval_runtime': 3.8057, 'eval_samples_per_second': 20.758, 'eval_steps_per_second': 5.255, 'epoch': 62.99}\n",
      "{'loss': 0.0552, 'grad_norm': 0.4067894518375397, 'learning_rate': 4.147058823529412e-06, 'epoch': 63.04}\n",
      "{'loss': 0.059, 'grad_norm': 0.4549160301685333, 'learning_rate': 4.11764705882353e-06, 'epoch': 63.29}\n",
      "{'loss': 0.0641, 'grad_norm': 0.29970768094062805, 'learning_rate': 4.088235294117647e-06, 'epoch': 63.54}\n",
      "{'loss': 0.0469, 'grad_norm': 1.6514179706573486, 'learning_rate': 4.058823529411765e-06, 'epoch': 63.8}\n"
     ]
    },
    {
     "data": {
      "application/vnd.jupyter.widget-view+json": {
       "model_id": "adf84461a42f4d8495d67ecdef990b5c",
       "version_major": 2,
       "version_minor": 0
      },
      "text/plain": [
       "  0%|          | 0/20 [00:00<?, ?it/s]"
      ]
     },
     "metadata": {},
     "output_type": "display_data"
    },
    {
     "name": "stdout",
     "output_type": "stream",
     "text": [
      "{'eval_loss': 0.0205078125, 'eval_runtime': 3.7891, 'eval_samples_per_second': 20.849, 'eval_steps_per_second': 5.278, 'epoch': 64.0}\n",
      "{'loss': 0.0612, 'grad_norm': 0.1433177888393402, 'learning_rate': 4.029411764705883e-06, 'epoch': 64.05}\n",
      "{'loss': 0.0563, 'grad_norm': 0.9467073082923889, 'learning_rate': 4.000000000000001e-06, 'epoch': 64.3}\n",
      "{'loss': 0.051, 'grad_norm': 0.2815055251121521, 'learning_rate': 3.970588235294118e-06, 'epoch': 64.56}\n",
      "{'loss': 0.0616, 'grad_norm': 0.9143872857093811, 'learning_rate': 3.941176470588236e-06, 'epoch': 64.81}\n"
     ]
    },
    {
     "data": {
      "application/vnd.jupyter.widget-view+json": {
       "model_id": "986978f363444644b5becae623a0ec91",
       "version_major": 2,
       "version_minor": 0
      },
      "text/plain": [
       "  0%|          | 0/20 [00:00<?, ?it/s]"
      ]
     },
     "metadata": {},
     "output_type": "display_data"
    },
    {
     "name": "stdout",
     "output_type": "stream",
     "text": [
      "{'eval_loss': 0.01873779296875, 'eval_runtime': 3.8005, 'eval_samples_per_second': 20.787, 'eval_steps_per_second': 5.262, 'epoch': 64.99}\n",
      "{'loss': 0.0493, 'grad_norm': 0.28335461020469666, 'learning_rate': 3.911764705882353e-06, 'epoch': 65.06}\n",
      "{'loss': 0.0525, 'grad_norm': 0.2166072130203247, 'learning_rate': 3.882352941176471e-06, 'epoch': 65.32}\n",
      "{'loss': 0.0517, 'grad_norm': 0.1538906991481781, 'learning_rate': 3.852941176470589e-06, 'epoch': 65.57}\n",
      "{'loss': 0.0434, 'grad_norm': 0.24605976045131683, 'learning_rate': 3.8235294117647055e-06, 'epoch': 65.82}\n"
     ]
    },
    {
     "data": {
      "application/vnd.jupyter.widget-view+json": {
       "model_id": "5f8d4fd663a54babb0155888d93f70c8",
       "version_major": 2,
       "version_minor": 0
      },
      "text/plain": [
       "  0%|          | 0/20 [00:00<?, ?it/s]"
      ]
     },
     "metadata": {},
     "output_type": "display_data"
    },
    {
     "name": "stdout",
     "output_type": "stream",
     "text": [
      "{'eval_loss': 0.0188751220703125, 'eval_runtime': 3.8243, 'eval_samples_per_second': 20.657, 'eval_steps_per_second': 5.23, 'epoch': 66.0}\n",
      "{'loss': 0.0628, 'grad_norm': 4.342925071716309, 'learning_rate': 3.794117647058824e-06, 'epoch': 66.08}\n",
      "{'loss': 0.0749, 'grad_norm': 2.169177293777466, 'learning_rate': 3.7647058823529414e-06, 'epoch': 66.33}\n",
      "{'loss': 0.0512, 'grad_norm': 0.16177800297737122, 'learning_rate': 3.7352941176470593e-06, 'epoch': 66.58}\n",
      "{'loss': 0.0598, 'grad_norm': 4.917682647705078, 'learning_rate': 3.7058823529411767e-06, 'epoch': 66.84}\n"
     ]
    },
    {
     "data": {
      "application/vnd.jupyter.widget-view+json": {
       "model_id": "b21fad0726994fedaf9c6336add9988b",
       "version_major": 2,
       "version_minor": 0
      },
      "text/plain": [
       "  0%|          | 0/20 [00:00<?, ?it/s]"
      ]
     },
     "metadata": {},
     "output_type": "display_data"
    },
    {
     "name": "stdout",
     "output_type": "stream",
     "text": [
      "{'eval_loss': 0.0180511474609375, 'eval_runtime': 3.805, 'eval_samples_per_second': 20.762, 'eval_steps_per_second': 5.256, 'epoch': 66.99}\n",
      "{'loss': 0.0463, 'grad_norm': 0.17082688212394714, 'learning_rate': 3.6764705882352946e-06, 'epoch': 67.09}\n",
      "{'loss': 0.0455, 'grad_norm': 0.2150835245847702, 'learning_rate': 3.6470588235294117e-06, 'epoch': 67.34}\n",
      "{'loss': 0.0505, 'grad_norm': 0.17994262278079987, 'learning_rate': 3.6176470588235296e-06, 'epoch': 67.59}\n",
      "{'loss': 0.0598, 'grad_norm': 0.18423670530319214, 'learning_rate': 3.5882352941176475e-06, 'epoch': 67.85}\n"
     ]
    },
    {
     "data": {
      "application/vnd.jupyter.widget-view+json": {
       "model_id": "a6bbb93488c64b609f59d359e4c24be4",
       "version_major": 2,
       "version_minor": 0
      },
      "text/plain": [
       "  0%|          | 0/20 [00:00<?, ?it/s]"
      ]
     },
     "metadata": {},
     "output_type": "display_data"
    },
    {
     "name": "stdout",
     "output_type": "stream",
     "text": [
      "{'eval_loss': 0.017181396484375, 'eval_runtime': 3.7973, 'eval_samples_per_second': 20.804, 'eval_steps_per_second': 5.267, 'epoch': 68.0}\n",
      "{'loss': 0.0429, 'grad_norm': 0.33487075567245483, 'learning_rate': 3.558823529411765e-06, 'epoch': 68.1}\n",
      "{'loss': 0.0673, 'grad_norm': 3.2162115573883057, 'learning_rate': 3.529411764705883e-06, 'epoch': 68.35}\n",
      "{'loss': 0.066, 'grad_norm': 0.16906477510929108, 'learning_rate': 3.5e-06, 'epoch': 68.61}\n",
      "{'loss': 0.0441, 'grad_norm': 0.35260167717933655, 'learning_rate': 3.470588235294118e-06, 'epoch': 68.86}\n"
     ]
    },
    {
     "data": {
      "application/vnd.jupyter.widget-view+json": {
       "model_id": "424c1356685746629ee017286e9e4105",
       "version_major": 2,
       "version_minor": 0
      },
      "text/plain": [
       "  0%|          | 0/20 [00:00<?, ?it/s]"
      ]
     },
     "metadata": {},
     "output_type": "display_data"
    },
    {
     "name": "stdout",
     "output_type": "stream",
     "text": [
      "{'eval_loss': 0.017242431640625, 'eval_runtime': 3.7997, 'eval_samples_per_second': 20.791, 'eval_steps_per_second': 5.264, 'epoch': 68.99}\n",
      "{'loss': 0.0603, 'grad_norm': 0.8301636576652527, 'learning_rate': 3.4411764705882358e-06, 'epoch': 69.11}\n",
      "{'loss': 0.0499, 'grad_norm': 1.7538890838623047, 'learning_rate': 3.4117647058823532e-06, 'epoch': 69.37}\n",
      "{'loss': 0.0403, 'grad_norm': 0.19529278576374054, 'learning_rate': 3.382352941176471e-06, 'epoch': 69.62}\n",
      "{'loss': 0.0553, 'grad_norm': 0.26942259073257446, 'learning_rate': 3.352941176470588e-06, 'epoch': 69.87}\n"
     ]
    },
    {
     "data": {
      "application/vnd.jupyter.widget-view+json": {
       "model_id": "f578d5c12e504105b6bd9837e12cd8c2",
       "version_major": 2,
       "version_minor": 0
      },
      "text/plain": [
       "  0%|          | 0/20 [00:00<?, ?it/s]"
      ]
     },
     "metadata": {},
     "output_type": "display_data"
    },
    {
     "name": "stdout",
     "output_type": "stream",
     "text": [
      "{'eval_loss': 0.0168914794921875, 'eval_runtime': 3.7883, 'eval_samples_per_second': 20.854, 'eval_steps_per_second': 5.279, 'epoch': 70.0}\n",
      "{'loss': 0.0469, 'grad_norm': 5.509429931640625, 'learning_rate': 3.323529411764706e-06, 'epoch': 70.13}\n",
      "{'loss': 0.0687, 'grad_norm': 0.14388148486614227, 'learning_rate': 3.2941176470588236e-06, 'epoch': 70.38}\n",
      "{'loss': 0.0661, 'grad_norm': 0.295139878988266, 'learning_rate': 3.2647058823529415e-06, 'epoch': 70.63}\n",
      "{'loss': 0.046, 'grad_norm': 0.27981629967689514, 'learning_rate': 3.2352941176470594e-06, 'epoch': 70.89}\n"
     ]
    },
    {
     "data": {
      "application/vnd.jupyter.widget-view+json": {
       "model_id": "d050ea4a928848aba2887f969f32c9e5",
       "version_major": 2,
       "version_minor": 0
      },
      "text/plain": [
       "  0%|          | 0/20 [00:00<?, ?it/s]"
      ]
     },
     "metadata": {},
     "output_type": "display_data"
    },
    {
     "name": "stdout",
     "output_type": "stream",
     "text": [
      "{'eval_loss': 0.01849365234375, 'eval_runtime': 3.7957, 'eval_samples_per_second': 20.813, 'eval_steps_per_second': 5.269, 'epoch': 70.99}\n",
      "{'loss': 0.0513, 'grad_norm': 0.2312615066766739, 'learning_rate': 3.205882352941177e-06, 'epoch': 71.14}\n",
      "{'loss': 0.0433, 'grad_norm': 2.6798079013824463, 'learning_rate': 3.1764705882352943e-06, 'epoch': 71.39}\n",
      "{'loss': 0.0534, 'grad_norm': 0.1708700805902481, 'learning_rate': 3.147058823529412e-06, 'epoch': 71.65}\n",
      "{'loss': 0.0615, 'grad_norm': 0.4508838355541229, 'learning_rate': 3.1176470588235297e-06, 'epoch': 71.9}\n"
     ]
    },
    {
     "data": {
      "application/vnd.jupyter.widget-view+json": {
       "model_id": "e73e5ae60352451280c74521f5b22cdc",
       "version_major": 2,
       "version_minor": 0
      },
      "text/plain": [
       "  0%|          | 0/20 [00:00<?, ?it/s]"
      ]
     },
     "metadata": {},
     "output_type": "display_data"
    },
    {
     "name": "stdout",
     "output_type": "stream",
     "text": [
      "{'eval_loss': 0.017730712890625, 'eval_runtime': 3.807, 'eval_samples_per_second': 20.751, 'eval_steps_per_second': 5.254, 'epoch': 72.0}\n",
      "{'loss': 0.0439, 'grad_norm': 0.2844542860984802, 'learning_rate': 3.0882352941176476e-06, 'epoch': 72.15}\n",
      "{'loss': 0.0556, 'grad_norm': 4.112383842468262, 'learning_rate': 3.058823529411765e-06, 'epoch': 72.41}\n",
      "{'loss': 0.0815, 'grad_norm': 4.094751834869385, 'learning_rate': 3.0294117647058826e-06, 'epoch': 72.66}\n",
      "{'loss': 0.0444, 'grad_norm': 0.1308102011680603, 'learning_rate': 3e-06, 'epoch': 72.91}\n"
     ]
    },
    {
     "data": {
      "application/vnd.jupyter.widget-view+json": {
       "model_id": "84eaa1ec2c494b518b3d012b062b1023",
       "version_major": 2,
       "version_minor": 0
      },
      "text/plain": [
       "  0%|          | 0/20 [00:00<?, ?it/s]"
      ]
     },
     "metadata": {},
     "output_type": "display_data"
    },
    {
     "name": "stdout",
     "output_type": "stream",
     "text": [
      "{'eval_loss': 0.0164794921875, 'eval_runtime': 3.7841, 'eval_samples_per_second': 20.877, 'eval_steps_per_second': 5.285, 'epoch': 72.99}\n",
      "{'loss': 0.042, 'grad_norm': 0.2307356745004654, 'learning_rate': 2.970588235294118e-06, 'epoch': 73.16}\n",
      "{'loss': 0.0459, 'grad_norm': 0.2237093150615692, 'learning_rate': 2.9411764705882355e-06, 'epoch': 73.42}\n",
      "{'loss': 0.0732, 'grad_norm': 17.721342086791992, 'learning_rate': 2.9117647058823534e-06, 'epoch': 73.67}\n",
      "{'loss': 0.0412, 'grad_norm': 0.1540854573249817, 'learning_rate': 2.8823529411764704e-06, 'epoch': 73.92}\n"
     ]
    },
    {
     "data": {
      "application/vnd.jupyter.widget-view+json": {
       "model_id": "8e27ab7dc4d844faba1c6b19744f274a",
       "version_major": 2,
       "version_minor": 0
      },
      "text/plain": [
       "  0%|          | 0/20 [00:00<?, ?it/s]"
      ]
     },
     "metadata": {},
     "output_type": "display_data"
    },
    {
     "name": "stdout",
     "output_type": "stream",
     "text": [
      "{'eval_loss': 0.016937255859375, 'eval_runtime': 3.8109, 'eval_samples_per_second': 20.73, 'eval_steps_per_second': 5.248, 'epoch': 74.0}\n",
      "{'loss': 0.0456, 'grad_norm': 0.3765268325805664, 'learning_rate': 2.8529411764705883e-06, 'epoch': 74.18}\n",
      "{'loss': 0.0373, 'grad_norm': 0.12449856102466583, 'learning_rate': 2.8235294117647062e-06, 'epoch': 74.43}\n",
      "{'loss': 0.0432, 'grad_norm': 0.14425134658813477, 'learning_rate': 2.7941176470588237e-06, 'epoch': 74.68}\n",
      "{'loss': 0.0504, 'grad_norm': 18.42017364501953, 'learning_rate': 2.7647058823529416e-06, 'epoch': 74.94}\n"
     ]
    },
    {
     "data": {
      "application/vnd.jupyter.widget-view+json": {
       "model_id": "585b0c75bd8b49dbbee6201f71ab4404",
       "version_major": 2,
       "version_minor": 0
      },
      "text/plain": [
       "  0%|          | 0/20 [00:00<?, ?it/s]"
      ]
     },
     "metadata": {},
     "output_type": "display_data"
    },
    {
     "name": "stdout",
     "output_type": "stream",
     "text": [
      "{'eval_loss': 0.01532745361328125, 'eval_runtime': 3.8005, 'eval_samples_per_second': 20.787, 'eval_steps_per_second': 5.262, 'epoch': 74.99}\n",
      "{'loss': 0.0438, 'grad_norm': 0.2194770872592926, 'learning_rate': 2.7352941176470595e-06, 'epoch': 75.19}\n",
      "{'loss': 0.0448, 'grad_norm': 1.6980903148651123, 'learning_rate': 2.7058823529411766e-06, 'epoch': 75.44}\n",
      "{'loss': 0.0461, 'grad_norm': 0.12659712135791779, 'learning_rate': 2.6764705882352945e-06, 'epoch': 75.7}\n",
      "{'loss': 0.052, 'grad_norm': 0.12371427565813065, 'learning_rate': 2.647058823529412e-06, 'epoch': 75.95}\n"
     ]
    },
    {
     "data": {
      "application/vnd.jupyter.widget-view+json": {
       "model_id": "3c052c0567934088adba0e3885bf0e3b",
       "version_major": 2,
       "version_minor": 0
      },
      "text/plain": [
       "  0%|          | 0/20 [00:00<?, ?it/s]"
      ]
     },
     "metadata": {},
     "output_type": "display_data"
    },
    {
     "name": "stdout",
     "output_type": "stream",
     "text": [
      "{'eval_loss': 0.015838623046875, 'eval_runtime': 3.8146, 'eval_samples_per_second': 20.71, 'eval_steps_per_second': 5.243, 'epoch': 76.0}\n",
      "{'loss': 0.0592, 'grad_norm': 0.268777459859848, 'learning_rate': 2.61764705882353e-06, 'epoch': 76.2}\n",
      "{'loss': 0.0415, 'grad_norm': 0.25896453857421875, 'learning_rate': 2.5882352941176473e-06, 'epoch': 76.46}\n",
      "{'loss': 0.045, 'grad_norm': 0.15910188853740692, 'learning_rate': 2.558823529411765e-06, 'epoch': 76.71}\n",
      "{'loss': 0.0607, 'grad_norm': 0.13893574476242065, 'learning_rate': 2.5294117647058823e-06, 'epoch': 76.96}\n"
     ]
    },
    {
     "data": {
      "application/vnd.jupyter.widget-view+json": {
       "model_id": "ae20b4d232f048988cd33d7225d6fcb3",
       "version_major": 2,
       "version_minor": 0
      },
      "text/plain": [
       "  0%|          | 0/20 [00:00<?, ?it/s]"
      ]
     },
     "metadata": {},
     "output_type": "display_data"
    },
    {
     "name": "stdout",
     "output_type": "stream",
     "text": [
      "{'eval_loss': 0.01641845703125, 'eval_runtime': 3.7886, 'eval_samples_per_second': 20.852, 'eval_steps_per_second': 5.279, 'epoch': 76.99}\n",
      "{'loss': 0.0494, 'grad_norm': 18.787633895874023, 'learning_rate': 2.5e-06, 'epoch': 77.22}\n",
      "{'loss': 0.0387, 'grad_norm': 0.23243603110313416, 'learning_rate': 2.470588235294118e-06, 'epoch': 77.47}\n",
      "{'loss': 0.0475, 'grad_norm': 0.9456576108932495, 'learning_rate': 2.4411764705882356e-06, 'epoch': 77.72}\n",
      "{'loss': 0.052, 'grad_norm': 0.18039143085479736, 'learning_rate': 2.411764705882353e-06, 'epoch': 77.97}\n"
     ]
    },
    {
     "data": {
      "application/vnd.jupyter.widget-view+json": {
       "model_id": "ec2675e8b5314f63b6096c906d7ff5b2",
       "version_major": 2,
       "version_minor": 0
      },
      "text/plain": [
       "  0%|          | 0/20 [00:00<?, ?it/s]"
      ]
     },
     "metadata": {},
     "output_type": "display_data"
    },
    {
     "name": "stdout",
     "output_type": "stream",
     "text": [
      "{'eval_loss': 0.016876220703125, 'eval_runtime': 3.8306, 'eval_samples_per_second': 20.623, 'eval_steps_per_second': 5.221, 'epoch': 78.0}\n",
      "{'loss': 0.053, 'grad_norm': 0.1290387660264969, 'learning_rate': 2.3823529411764705e-06, 'epoch': 78.23}\n",
      "{'loss': 0.0448, 'grad_norm': 0.3801930844783783, 'learning_rate': 2.3529411764705885e-06, 'epoch': 78.48}\n",
      "{'loss': 0.0433, 'grad_norm': 8.704424858093262, 'learning_rate': 2.323529411764706e-06, 'epoch': 78.73}\n",
      "{'loss': 0.0533, 'grad_norm': 0.148462176322937, 'learning_rate': 2.2941176470588234e-06, 'epoch': 78.99}\n"
     ]
    },
    {
     "data": {
      "application/vnd.jupyter.widget-view+json": {
       "model_id": "b777959953c64fb8840329224f9002ae",
       "version_major": 2,
       "version_minor": 0
      },
      "text/plain": [
       "  0%|          | 0/20 [00:00<?, ?it/s]"
      ]
     },
     "metadata": {},
     "output_type": "display_data"
    },
    {
     "name": "stdout",
     "output_type": "stream",
     "text": [
      "{'eval_loss': 0.0155029296875, 'eval_runtime': 3.8065, 'eval_samples_per_second': 20.754, 'eval_steps_per_second': 5.254, 'epoch': 78.99}\n",
      "{'loss': 0.0396, 'grad_norm': 0.13552570343017578, 'learning_rate': 2.2647058823529413e-06, 'epoch': 79.24}\n",
      "{'loss': 0.0368, 'grad_norm': 0.20137110352516174, 'learning_rate': 2.2352941176470592e-06, 'epoch': 79.49}\n",
      "{'loss': 0.0409, 'grad_norm': 0.15882353484630585, 'learning_rate': 2.2058823529411767e-06, 'epoch': 79.75}\n",
      "{'loss': 0.0488, 'grad_norm': 0.17589221894741058, 'learning_rate': 2.176470588235294e-06, 'epoch': 80.0}\n"
     ]
    },
    {
     "data": {
      "application/vnd.jupyter.widget-view+json": {
       "model_id": "56190ad1ee0d421ba4881a01d69bb420",
       "version_major": 2,
       "version_minor": 0
      },
      "text/plain": [
       "  0%|          | 0/20 [00:00<?, ?it/s]"
      ]
     },
     "metadata": {},
     "output_type": "display_data"
    },
    {
     "name": "stdout",
     "output_type": "stream",
     "text": [
      "{'eval_loss': 0.015106201171875, 'eval_runtime': 3.8166, 'eval_samples_per_second': 20.699, 'eval_steps_per_second': 5.24, 'epoch': 80.0}\n",
      "{'loss': 0.0451, 'grad_norm': 0.23368199169635773, 'learning_rate': 2.1470588235294117e-06, 'epoch': 80.25}\n",
      "{'loss': 0.0391, 'grad_norm': 0.5999528765678406, 'learning_rate': 2.1176470588235296e-06, 'epoch': 80.51}\n",
      "{'loss': 0.0368, 'grad_norm': 1.265257716178894, 'learning_rate': 2.0882352941176475e-06, 'epoch': 80.76}\n"
     ]
    },
    {
     "data": {
      "application/vnd.jupyter.widget-view+json": {
       "model_id": "c5d380287a4042c89ca1d848f435c244",
       "version_major": 2,
       "version_minor": 0
      },
      "text/plain": [
       "  0%|          | 0/20 [00:00<?, ?it/s]"
      ]
     },
     "metadata": {},
     "output_type": "display_data"
    },
    {
     "name": "stdout",
     "output_type": "stream",
     "text": [
      "{'eval_loss': 0.01535797119140625, 'eval_runtime': 3.8003, 'eval_samples_per_second': 20.788, 'eval_steps_per_second': 5.263, 'epoch': 80.99}\n",
      "{'loss': 0.0639, 'grad_norm': 3.380904197692871, 'learning_rate': 2.058823529411765e-06, 'epoch': 81.01}\n",
      "{'loss': 0.0391, 'grad_norm': 0.21770557761192322, 'learning_rate': 2.0294117647058824e-06, 'epoch': 81.27}\n",
      "{'loss': 0.0444, 'grad_norm': 1.1806033849716187, 'learning_rate': 2.0000000000000003e-06, 'epoch': 81.52}\n",
      "{'loss': 0.0635, 'grad_norm': 3.1479029655456543, 'learning_rate': 1.970588235294118e-06, 'epoch': 81.77}\n"
     ]
    },
    {
     "data": {
      "application/vnd.jupyter.widget-view+json": {
       "model_id": "a5be0164ff7646e48574f68b3b897b80",
       "version_major": 2,
       "version_minor": 0
      },
      "text/plain": [
       "  0%|          | 0/20 [00:00<?, ?it/s]"
      ]
     },
     "metadata": {},
     "output_type": "display_data"
    },
    {
     "name": "stdout",
     "output_type": "stream",
     "text": [
      "{'eval_loss': 0.0155792236328125, 'eval_runtime': 3.8284, 'eval_samples_per_second': 20.635, 'eval_steps_per_second': 5.224, 'epoch': 82.0}\n",
      "{'loss': 0.0422, 'grad_norm': 0.12819857895374298, 'learning_rate': 1.9411764705882353e-06, 'epoch': 82.03}\n",
      "{'loss': 0.0416, 'grad_norm': 0.8231313228607178, 'learning_rate': 1.9117647058823528e-06, 'epoch': 82.28}\n",
      "{'loss': 0.0516, 'grad_norm': 19.004104614257812, 'learning_rate': 1.8823529411764707e-06, 'epoch': 82.53}\n",
      "{'loss': 0.0452, 'grad_norm': 0.1347282975912094, 'learning_rate': 1.8529411764705884e-06, 'epoch': 82.78}\n"
     ]
    },
    {
     "data": {
      "application/vnd.jupyter.widget-view+json": {
       "model_id": "61870a07066a4d658e2870c2980e9102",
       "version_major": 2,
       "version_minor": 0
      },
      "text/plain": [
       "  0%|          | 0/20 [00:00<?, ?it/s]"
      ]
     },
     "metadata": {},
     "output_type": "display_data"
    },
    {
     "name": "stdout",
     "output_type": "stream",
     "text": [
      "{'eval_loss': 0.01534271240234375, 'eval_runtime': 3.798, 'eval_samples_per_second': 20.8, 'eval_steps_per_second': 5.266, 'epoch': 82.99}\n",
      "{'loss': 0.0381, 'grad_norm': 0.19257165491580963, 'learning_rate': 1.8235294117647058e-06, 'epoch': 83.04}\n",
      "{'loss': 0.0519, 'grad_norm': 1.563941478729248, 'learning_rate': 1.7941176470588238e-06, 'epoch': 83.29}\n",
      "{'loss': 0.0894, 'grad_norm': 16.308786392211914, 'learning_rate': 1.7647058823529414e-06, 'epoch': 83.54}\n",
      "{'loss': 0.0563, 'grad_norm': 7.896758556365967, 'learning_rate': 1.735294117647059e-06, 'epoch': 83.8}\n"
     ]
    },
    {
     "data": {
      "application/vnd.jupyter.widget-view+json": {
       "model_id": "11a2189b3bb042c9a8b1cf9c10b56e10",
       "version_major": 2,
       "version_minor": 0
      },
      "text/plain": [
       "  0%|          | 0/20 [00:00<?, ?it/s]"
      ]
     },
     "metadata": {},
     "output_type": "display_data"
    },
    {
     "name": "stdout",
     "output_type": "stream",
     "text": [
      "{'eval_loss': 0.014556884765625, 'eval_runtime': 3.8337, 'eval_samples_per_second': 20.607, 'eval_steps_per_second': 5.217, 'epoch': 84.0}\n",
      "{'loss': 0.0507, 'grad_norm': 1.5643129348754883, 'learning_rate': 1.7058823529411766e-06, 'epoch': 84.05}\n",
      "{'loss': 0.0489, 'grad_norm': 0.7538694739341736, 'learning_rate': 1.676470588235294e-06, 'epoch': 84.3}\n",
      "{'loss': 0.0482, 'grad_norm': 0.16805006563663483, 'learning_rate': 1.6470588235294118e-06, 'epoch': 84.56}\n",
      "{'loss': 0.0373, 'grad_norm': 1.430394172668457, 'learning_rate': 1.6176470588235297e-06, 'epoch': 84.81}\n"
     ]
    },
    {
     "data": {
      "application/vnd.jupyter.widget-view+json": {
       "model_id": "58f307ae652f4989a49058c771a191c0",
       "version_major": 2,
       "version_minor": 0
      },
      "text/plain": [
       "  0%|          | 0/20 [00:00<?, ?it/s]"
      ]
     },
     "metadata": {},
     "output_type": "display_data"
    },
    {
     "name": "stdout",
     "output_type": "stream",
     "text": [
      "{'eval_loss': 0.0150604248046875, 'eval_runtime': 3.8075, 'eval_samples_per_second': 20.749, 'eval_steps_per_second': 5.253, 'epoch': 84.99}\n",
      "{'loss': 0.0465, 'grad_norm': 3.0297043323516846, 'learning_rate': 1.5882352941176472e-06, 'epoch': 85.06}\n",
      "{'loss': 0.0532, 'grad_norm': 0.13645637035369873, 'learning_rate': 1.5588235294117649e-06, 'epoch': 85.32}\n",
      "{'loss': 0.0358, 'grad_norm': 0.1413208544254303, 'learning_rate': 1.5294117647058826e-06, 'epoch': 85.57}\n",
      "{'loss': 0.0416, 'grad_norm': 0.18106584250926971, 'learning_rate': 1.5e-06, 'epoch': 85.82}\n"
     ]
    },
    {
     "data": {
      "application/vnd.jupyter.widget-view+json": {
       "model_id": "4b8c77b8ce9f43d7b4b906e12cf37b42",
       "version_major": 2,
       "version_minor": 0
      },
      "text/plain": [
       "  0%|          | 0/20 [00:00<?, ?it/s]"
      ]
     },
     "metadata": {},
     "output_type": "display_data"
    },
    {
     "name": "stdout",
     "output_type": "stream",
     "text": [
      "{'eval_loss': 0.015533447265625, 'eval_runtime': 3.8327, 'eval_samples_per_second': 20.612, 'eval_steps_per_second': 5.218, 'epoch': 86.0}\n",
      "{'loss': 0.0349, 'grad_norm': 0.42196419835090637, 'learning_rate': 1.4705882352941177e-06, 'epoch': 86.08}\n",
      "{'loss': 0.0573, 'grad_norm': 0.18586914241313934, 'learning_rate': 1.4411764705882352e-06, 'epoch': 86.33}\n",
      "{'loss': 0.0536, 'grad_norm': 0.22370955348014832, 'learning_rate': 1.4117647058823531e-06, 'epoch': 86.58}\n",
      "{'loss': 0.1224, 'grad_norm': 0.15466223657131195, 'learning_rate': 1.3823529411764708e-06, 'epoch': 86.84}\n"
     ]
    },
    {
     "data": {
      "application/vnd.jupyter.widget-view+json": {
       "model_id": "18d8850333d6422581c1694c680d14b7",
       "version_major": 2,
       "version_minor": 0
      },
      "text/plain": [
       "  0%|          | 0/20 [00:00<?, ?it/s]"
      ]
     },
     "metadata": {},
     "output_type": "display_data"
    },
    {
     "name": "stdout",
     "output_type": "stream",
     "text": [
      "{'eval_loss': 0.0144195556640625, 'eval_runtime': 3.7927, 'eval_samples_per_second': 20.829, 'eval_steps_per_second': 5.273, 'epoch': 86.99}\n",
      "{'loss': 0.0441, 'grad_norm': 0.19517011940479279, 'learning_rate': 1.3529411764705883e-06, 'epoch': 87.09}\n",
      "{'loss': 0.0617, 'grad_norm': 0.3457471430301666, 'learning_rate': 1.323529411764706e-06, 'epoch': 87.34}\n",
      "{'loss': 0.0418, 'grad_norm': 0.31216883659362793, 'learning_rate': 1.2941176470588237e-06, 'epoch': 87.59}\n",
      "{'loss': 0.0578, 'grad_norm': 16.219316482543945, 'learning_rate': 1.2647058823529412e-06, 'epoch': 87.85}\n"
     ]
    },
    {
     "data": {
      "application/vnd.jupyter.widget-view+json": {
       "model_id": "3186c568724244b9889a1b2d68e00532",
       "version_major": 2,
       "version_minor": 0
      },
      "text/plain": [
       "  0%|          | 0/20 [00:00<?, ?it/s]"
      ]
     },
     "metadata": {},
     "output_type": "display_data"
    },
    {
     "name": "stdout",
     "output_type": "stream",
     "text": [
      "{'eval_loss': 0.01495361328125, 'eval_runtime': 3.8098, 'eval_samples_per_second': 20.736, 'eval_steps_per_second': 5.25, 'epoch': 88.0}\n",
      "{'loss': 0.0588, 'grad_norm': 0.15688259899616241, 'learning_rate': 1.235294117647059e-06, 'epoch': 88.1}\n",
      "{'loss': 0.0424, 'grad_norm': 0.14512138068675995, 'learning_rate': 1.2058823529411765e-06, 'epoch': 88.35}\n",
      "{'loss': 0.0514, 'grad_norm': 0.2364158183336258, 'learning_rate': 1.1764705882352942e-06, 'epoch': 88.61}\n",
      "{'loss': 0.0474, 'grad_norm': 0.1316852867603302, 'learning_rate': 1.1470588235294117e-06, 'epoch': 88.86}\n"
     ]
    },
    {
     "data": {
      "application/vnd.jupyter.widget-view+json": {
       "model_id": "d2d12495de3742c7be6ecf0f3cf55892",
       "version_major": 2,
       "version_minor": 0
      },
      "text/plain": [
       "  0%|          | 0/20 [00:00<?, ?it/s]"
      ]
     },
     "metadata": {},
     "output_type": "display_data"
    },
    {
     "name": "stdout",
     "output_type": "stream",
     "text": [
      "{'eval_loss': 0.01421356201171875, 'eval_runtime': 3.8217, 'eval_samples_per_second': 20.671, 'eval_steps_per_second': 5.233, 'epoch': 88.99}\n",
      "{'loss': 0.043, 'grad_norm': 0.20404309034347534, 'learning_rate': 1.1176470588235296e-06, 'epoch': 89.11}\n",
      "{'loss': 0.0525, 'grad_norm': 7.1082234382629395, 'learning_rate': 1.088235294117647e-06, 'epoch': 89.37}\n",
      "{'loss': 0.0449, 'grad_norm': 0.13558772206306458, 'learning_rate': 1.0588235294117648e-06, 'epoch': 89.62}\n",
      "{'loss': 0.0363, 'grad_norm': 0.9151359796524048, 'learning_rate': 1.0294117647058825e-06, 'epoch': 89.87}\n"
     ]
    },
    {
     "data": {
      "application/vnd.jupyter.widget-view+json": {
       "model_id": "f2231786c26c41b28f9a5c625b7ea7eb",
       "version_major": 2,
       "version_minor": 0
      },
      "text/plain": [
       "  0%|          | 0/20 [00:00<?, ?it/s]"
      ]
     },
     "metadata": {},
     "output_type": "display_data"
    },
    {
     "name": "stdout",
     "output_type": "stream",
     "text": [
      "{'eval_loss': 0.01666259765625, 'eval_runtime': 3.8038, 'eval_samples_per_second': 20.769, 'eval_steps_per_second': 5.258, 'epoch': 90.0}\n",
      "{'loss': 0.0382, 'grad_norm': 0.23264890909194946, 'learning_rate': 1.0000000000000002e-06, 'epoch': 90.13}\n",
      "{'loss': 0.0518, 'grad_norm': 3.888803243637085, 'learning_rate': 9.705882352941176e-07, 'epoch': 90.38}\n",
      "{'loss': 0.0377, 'grad_norm': 0.19037741422653198, 'learning_rate': 9.411764705882353e-07, 'epoch': 90.63}\n",
      "{'loss': 0.0367, 'grad_norm': 0.16592305898666382, 'learning_rate': 9.117647058823529e-07, 'epoch': 90.89}\n"
     ]
    },
    {
     "data": {
      "application/vnd.jupyter.widget-view+json": {
       "model_id": "851a0cd8fdea4efe9ce57ac21e8de6de",
       "version_major": 2,
       "version_minor": 0
      },
      "text/plain": [
       "  0%|          | 0/20 [00:00<?, ?it/s]"
      ]
     },
     "metadata": {},
     "output_type": "display_data"
    },
    {
     "name": "stdout",
     "output_type": "stream",
     "text": [
      "{'eval_loss': 0.01751708984375, 'eval_runtime': 3.8125, 'eval_samples_per_second': 20.722, 'eval_steps_per_second': 5.246, 'epoch': 90.99}\n",
      "{'loss': 0.0367, 'grad_norm': 0.34731653332710266, 'learning_rate': 8.823529411764707e-07, 'epoch': 91.14}\n",
      "{'loss': 0.0364, 'grad_norm': 0.8911747932434082, 'learning_rate': 8.529411764705883e-07, 'epoch': 91.39}\n",
      "{'loss': 0.0528, 'grad_norm': 7.039567947387695, 'learning_rate': 8.235294117647059e-07, 'epoch': 91.65}\n",
      "{'loss': 0.0613, 'grad_norm': 18.639423370361328, 'learning_rate': 7.941176470588236e-07, 'epoch': 91.9}\n"
     ]
    },
    {
     "data": {
      "application/vnd.jupyter.widget-view+json": {
       "model_id": "051c4b163fbc4877bb6f3491f8b97dcf",
       "version_major": 2,
       "version_minor": 0
      },
      "text/plain": [
       "  0%|          | 0/20 [00:00<?, ?it/s]"
      ]
     },
     "metadata": {},
     "output_type": "display_data"
    },
    {
     "name": "stdout",
     "output_type": "stream",
     "text": [
      "{'eval_loss': 0.015380859375, 'eval_runtime': 3.7998, 'eval_samples_per_second': 20.791, 'eval_steps_per_second': 5.263, 'epoch': 92.0}\n",
      "{'loss': 0.0406, 'grad_norm': 0.18090243637561798, 'learning_rate': 7.647058823529413e-07, 'epoch': 92.15}\n",
      "{'loss': 0.0505, 'grad_norm': 8.707663536071777, 'learning_rate': 7.352941176470589e-07, 'epoch': 92.41}\n",
      "{'loss': 0.0432, 'grad_norm': 0.1984761506319046, 'learning_rate': 7.058823529411766e-07, 'epoch': 92.66}\n",
      "{'loss': 0.0364, 'grad_norm': 3.0877506732940674, 'learning_rate': 6.764705882352941e-07, 'epoch': 92.91}\n"
     ]
    },
    {
     "data": {
      "application/vnd.jupyter.widget-view+json": {
       "model_id": "cbccc0e7f7484c3ca4dbfc65a8f2606e",
       "version_major": 2,
       "version_minor": 0
      },
      "text/plain": [
       "  0%|          | 0/20 [00:00<?, ?it/s]"
      ]
     },
     "metadata": {},
     "output_type": "display_data"
    },
    {
     "name": "stdout",
     "output_type": "stream",
     "text": [
      "{'eval_loss': 0.01471710205078125, 'eval_runtime': 3.7981, 'eval_samples_per_second': 20.8, 'eval_steps_per_second': 5.266, 'epoch': 92.99}\n",
      "{'loss': 0.0497, 'grad_norm': 0.4194636940956116, 'learning_rate': 6.470588235294118e-07, 'epoch': 93.16}\n",
      "{'loss': 0.0368, 'grad_norm': 0.4908721446990967, 'learning_rate': 6.176470588235295e-07, 'epoch': 93.42}\n",
      "{'loss': 0.0475, 'grad_norm': 0.33319222927093506, 'learning_rate': 5.882352941176471e-07, 'epoch': 93.67}\n",
      "{'loss': 0.0372, 'grad_norm': 1.2715908288955688, 'learning_rate': 5.588235294117648e-07, 'epoch': 93.92}\n"
     ]
    },
    {
     "data": {
      "application/vnd.jupyter.widget-view+json": {
       "model_id": "566ecc18aabf464482fb7d46673d014e",
       "version_major": 2,
       "version_minor": 0
      },
      "text/plain": [
       "  0%|          | 0/20 [00:00<?, ?it/s]"
      ]
     },
     "metadata": {},
     "output_type": "display_data"
    },
    {
     "name": "stdout",
     "output_type": "stream",
     "text": [
      "{'eval_loss': 0.01476287841796875, 'eval_runtime': 3.8245, 'eval_samples_per_second': 20.656, 'eval_steps_per_second': 5.229, 'epoch': 94.0}\n",
      "{'loss': 0.0385, 'grad_norm': 0.20564985275268555, 'learning_rate': 5.294117647058824e-07, 'epoch': 94.18}\n",
      "{'loss': 0.0348, 'grad_norm': 2.6775224208831787, 'learning_rate': 5.000000000000001e-07, 'epoch': 94.43}\n",
      "{'loss': 0.0399, 'grad_norm': 0.18854431807994843, 'learning_rate': 4.7058823529411767e-07, 'epoch': 94.68}\n",
      "{'loss': 0.037, 'grad_norm': 0.12176831811666489, 'learning_rate': 4.4117647058823536e-07, 'epoch': 94.94}\n"
     ]
    },
    {
     "data": {
      "application/vnd.jupyter.widget-view+json": {
       "model_id": "33f6c150f11847f88a736f9d15f71419",
       "version_major": 2,
       "version_minor": 0
      },
      "text/plain": [
       "  0%|          | 0/20 [00:00<?, ?it/s]"
      ]
     },
     "metadata": {},
     "output_type": "display_data"
    },
    {
     "name": "stdout",
     "output_type": "stream",
     "text": [
      "{'eval_loss': 0.01471710205078125, 'eval_runtime': 3.8041, 'eval_samples_per_second': 20.767, 'eval_steps_per_second': 5.257, 'epoch': 94.99}\n",
      "{'loss': 0.0431, 'grad_norm': 0.5277426838874817, 'learning_rate': 4.1176470588235295e-07, 'epoch': 95.19}\n",
      "{'loss': 0.0411, 'grad_norm': 0.5775101780891418, 'learning_rate': 3.8235294117647064e-07, 'epoch': 95.44}\n",
      "{'loss': 0.0402, 'grad_norm': 0.15499673783779144, 'learning_rate': 3.529411764705883e-07, 'epoch': 95.7}\n",
      "{'loss': 0.0685, 'grad_norm': 2.726837396621704, 'learning_rate': 3.235294117647059e-07, 'epoch': 95.95}\n"
     ]
    },
    {
     "data": {
      "application/vnd.jupyter.widget-view+json": {
       "model_id": "26ee194942b84aa1bc59b46d3d57354d",
       "version_major": 2,
       "version_minor": 0
      },
      "text/plain": [
       "  0%|          | 0/20 [00:00<?, ?it/s]"
      ]
     },
     "metadata": {},
     "output_type": "display_data"
    },
    {
     "name": "stdout",
     "output_type": "stream",
     "text": [
      "{'eval_loss': 0.01433563232421875, 'eval_runtime': 3.8254, 'eval_samples_per_second': 20.652, 'eval_steps_per_second': 5.228, 'epoch': 96.0}\n",
      "{'loss': 0.0636, 'grad_norm': 3.082364320755005, 'learning_rate': 2.9411764705882356e-07, 'epoch': 96.2}\n",
      "{'loss': 0.0419, 'grad_norm': 0.10423167794942856, 'learning_rate': 2.647058823529412e-07, 'epoch': 96.46}\n",
      "{'loss': 0.0516, 'grad_norm': 5.695888042449951, 'learning_rate': 2.3529411764705883e-07, 'epoch': 96.71}\n",
      "{'loss': 0.0465, 'grad_norm': 0.2390553206205368, 'learning_rate': 2.0588235294117647e-07, 'epoch': 96.96}\n"
     ]
    },
    {
     "data": {
      "application/vnd.jupyter.widget-view+json": {
       "model_id": "50753e10083f477dbc6b9d210b84b433",
       "version_major": 2,
       "version_minor": 0
      },
      "text/plain": [
       "  0%|          | 0/20 [00:00<?, ?it/s]"
      ]
     },
     "metadata": {},
     "output_type": "display_data"
    },
    {
     "name": "stdout",
     "output_type": "stream",
     "text": [
      "{'eval_loss': 0.014251708984375, 'eval_runtime': 3.821, 'eval_samples_per_second': 20.675, 'eval_steps_per_second': 5.234, 'epoch': 96.99}\n",
      "{'loss': 0.0376, 'grad_norm': 4.381048202514648, 'learning_rate': 1.7647058823529414e-07, 'epoch': 97.22}\n",
      "{'loss': 0.041, 'grad_norm': 0.16505634784698486, 'learning_rate': 1.4705882352941178e-07, 'epoch': 97.47}\n",
      "{'loss': 0.0345, 'grad_norm': 0.17694512009620667, 'learning_rate': 1.1764705882352942e-07, 'epoch': 97.72}\n",
      "{'loss': 0.0444, 'grad_norm': 6.6896653175354, 'learning_rate': 8.823529411764707e-08, 'epoch': 97.97}\n"
     ]
    },
    {
     "data": {
      "application/vnd.jupyter.widget-view+json": {
       "model_id": "bdd63108d87448fca03f379444e99eb6",
       "version_major": 2,
       "version_minor": 0
      },
      "text/plain": [
       "  0%|          | 0/20 [00:00<?, ?it/s]"
      ]
     },
     "metadata": {},
     "output_type": "display_data"
    },
    {
     "name": "stdout",
     "output_type": "stream",
     "text": [
      "{'eval_loss': 0.01430511474609375, 'eval_runtime': 3.8178, 'eval_samples_per_second': 20.692, 'eval_steps_per_second': 5.239, 'epoch': 98.0}\n",
      "{'loss': 0.0355, 'grad_norm': 0.20610342919826508, 'learning_rate': 5.882352941176471e-08, 'epoch': 98.23}\n",
      "{'loss': 0.0515, 'grad_norm': 9.494187355041504, 'learning_rate': 2.9411764705882354e-08, 'epoch': 98.48}\n",
      "{'loss': 0.0373, 'grad_norm': 0.16182638704776764, 'learning_rate': 0.0, 'epoch': 98.73}\n"
     ]
    },
    {
     "data": {
      "application/vnd.jupyter.widget-view+json": {
       "model_id": "f0d3982688b54befb8a64f2b9e505a25",
       "version_major": 2,
       "version_minor": 0
      },
      "text/plain": [
       "  0%|          | 0/20 [00:00<?, ?it/s]"
      ]
     },
     "metadata": {},
     "output_type": "display_data"
    },
    {
     "name": "stdout",
     "output_type": "stream",
     "text": [
      "{'eval_loss': 0.0142974853515625, 'eval_runtime': 3.8787, 'eval_samples_per_second': 20.368, 'eval_steps_per_second': 5.156, 'epoch': 98.73}\n",
      "{'train_runtime': 5976.3021, 'train_samples_per_second': 5.254, 'train_steps_per_second': 0.653, 'train_loss': 2.841857468042618, 'epoch': 98.73}\n"
     ]
    }
   ],
   "source": [
    "# 訓練模型\n",
    "train_result = trainer.train()"
   ]
  },
  {
   "cell_type": "code",
   "execution_count": 17,
   "metadata": {},
   "outputs": [
    {
     "data": {
      "application/vnd.jupyter.widget-view+json": {
       "model_id": "6dde989a49a54fc1aafaa2a4c736653d",
       "version_major": 2,
       "version_minor": 0
      },
      "text/plain": [
       "Map:   0%|          | 0/59 [00:00<?, ? examples/s]"
      ]
     },
     "metadata": {},
     "output_type": "display_data"
    },
    {
     "data": {
      "application/vnd.jupyter.widget-view+json": {
       "model_id": "494207d33c0e4eb283de27ffc0eab2f2",
       "version_major": 2,
       "version_minor": 0
      },
      "text/plain": [
       "  0%|          | 0/15 [00:00<?, ?it/s]"
      ]
     },
     "metadata": {},
     "output_type": "display_data"
    },
    {
     "name": "stdout",
     "output_type": "stream",
     "text": [
      "{'eval_loss': 0.0240631103515625, 'eval_runtime': 2.9376, 'eval_samples_per_second': 20.084, 'eval_steps_per_second': 5.106, 'epoch': 98.73417721518987}\n"
     ]
    }
   ],
   "source": [
    "# 評估模型\n",
    "df_val = pd.read_csv('../input/validation.csv')\n",
    "df_val = df_val.rename(columns={'HasTransaction': 'labels'})\n",
    "val_dataset = Dataset.from_pandas(df_val)\n",
    "val_dataset = val_dataset.map(\n",
    "    preprocess_function, \n",
    "    batched=True, \n",
    "    remove_columns=val_dataset.column_names\n",
    ")\n",
    "eval_result = trainer.evaluate(eval_dataset=val_dataset)\n",
    "print(eval_result)"
   ]
  },
  {
   "cell_type": "code",
   "execution_count": 18,
   "metadata": {},
   "outputs": [
    {
     "data": {
      "text/plain": [
       "('../output/lora_weights/tokenizer_config.json',\n",
       " '../output/lora_weights/special_tokens_map.json',\n",
       " '../output/lora_weights/tokenizer.json')"
      ]
     },
     "execution_count": 18,
     "metadata": {},
     "output_type": "execute_result"
    }
   ],
   "source": [
    "# 保存LoRA權重\n",
    "model.save_pretrained(\"../output/lora_weights\")\n",
    "tokenizer.save_pretrained(\"../output/lora_weights\")\n"
   ]
  },
  {
   "cell_type": "code",
   "execution_count": 19,
   "metadata": {},
   "outputs": [
    {
     "data": {
      "image/png": "[encoded data removed]",
      "text/plain": [
       "<Figure size 1000x500 with 1 Axes>"
      ]
     },
     "metadata": {},
     "output_type": "display_data"
    }
   ],
   "source": [
    "# 繪製訓練結果\n",
    "log_history = trainer.state.log_history\n",
    "\n",
    "# 提取步驟和損失\n",
    "steps = []\n",
    "losses = []\n",
    "\n",
    "for entry in log_history:\n",
    "    if \"loss\" in entry:\n",
    "        steps.append(entry[\"step\"])\n",
    "        losses.append(entry[\"loss\"])\n",
    "\n",
    "# 繪製損失曲線\n",
    "plt.figure(figsize=(10, 5))\n",
    "plt.plot(steps, losses, label='Training Loss', color='blue')\n",
    "plt.title('Training Loss Over Steps')\n",
    "plt.xlabel('Steps')\n",
    "plt.ylabel('Loss')\n",
    "plt.legend()\n",
    "plt.grid()\n",
    "plt.show()  # 顯示圖形"
   ]
  },
  {
   "cell_type": "code",
   "execution_count": 20,
   "metadata": {},
   "outputs": [
    {
     "data": {
      "image/png": "[encoded data removed]",
      "text/plain": [
       "<Figure size 1200x600 with 1 Axes>"
      ]
     },
     "metadata": {},
     "output_type": "display_data"
    }
   ],
   "source": [
    "# 將 log_history 轉換為 DataFrame\n",
    "log_history_df = pd.DataFrame(trainer.state.log_history)\n",
    "\n",
    "# 提取訓練和驗證損失\n",
    "train_losses = log_history_df['loss'].dropna().tolist()\n",
    "eval_losses = log_history_df['eval_loss'].dropna().tolist()\n",
    "steps = log_history_df['step'].dropna().tolist()\n",
    "\n",
    "# 確保訓練損失和步驟匹配\n",
    "train_steps = steps[:len(train_losses)]\n",
    "\n",
    "plt.figure(figsize=(12, 6))\n",
    "\n",
    "# 繪製訓練損失\n",
    "plt.plot(train_steps, train_losses, label='Train Loss', color='blue')\n",
    "\n",
    "# 繪製驗證損失（如果存在）\n",
    "if eval_losses:\n",
    "    eval_steps = steps[:len(eval_losses)]\n",
    "    plt.plot(eval_steps, eval_losses, label='Eval Loss', color='orange')\n",
    "\n",
    "plt.title('Training and Evaluation Loss')\n",
    "plt.xlabel('Steps')\n",
    "plt.ylabel('Loss')\n",
    "plt.legend()\n",
    "plt.grid()\n",
    "plt.show()"
   ]
  },
  {
   "cell_type": "code",
   "execution_count": 21,
   "metadata": {},
   "outputs": [],
   "source": [
    "from peft import PeftModel, PeftConfig\n",
    "\n",
    "peft_model_base = AutoModelForSeq2SeqLM.from_pretrained(\"google/flan-t5-base\", torch_dtype=torch.bfloat16)\n",
    "tokenizer = AutoTokenizer.from_pretrained(\"google/flan-t5-base\")\n",
    "\n",
    "peft_model = PeftModel.from_pretrained(peft_model_base, \n",
    "                                       '../output/lora_weights', \n",
    "                                       torch_dtype=torch.bfloat16,\n",
    "                                       is_trainable=False)"
   ]
  },
  {
   "cell_type": "code",
   "execution_count": 22,
   "metadata": {},
   "outputs": [
    {
     "name": "stdout",
     "output_type": "stream",
     "text": [
      "trainable params: 0 || all params: 304,200,960 || trainable%: 0.0000\n"
     ]
    }
   ],
   "source": [
    "peft_model.print_trainable_parameters()"
   ]
  },
  {
   "cell_type": "code",
   "execution_count": 23,
   "metadata": {},
   "outputs": [
    {
     "data": {
      "text/plain": [
       "'mps'"
      ]
     },
     "execution_count": 23,
     "metadata": {},
     "output_type": "execute_result"
    }
   ],
   "source": [
    "device"
   ]
  },
  {
   "cell_type": "code",
   "execution_count": 24,
   "metadata": {},
   "outputs": [],
   "source": [
    "def split_text_into_chunks(text: str, chunk_size: int = 1000, overlap: int = 100):\n",
    "    chunks = []\n",
    "    start = 0\n",
    "    while start < len(text):\n",
    "        end = start + chunk_size\n",
    "        chunk = text[start:end]\n",
    "        chunks.append(chunk)\n",
    "        start = end - overlap\n",
    "    return chunks\n",
    "\n",
    "def detect_has_transaction(chunk: str):\n",
    "    prompt = f\"classify transaction: {chunk}\"\n",
    "    # 將模型移到正確的設備\n",
    "    peft_model.to(device)\n",
    "    \n",
    "    # 確保輸入數據在正確的設備上\n",
    "    inputs = tokenizer(\n",
    "        prompt, \n",
    "        max_length=512, \n",
    "        padding=\"max_length\", \n",
    "        truncation=True, \n",
    "        return_tensors=\"pt\"\n",
    "    )\n",
    "    \n",
    "    # 手動將輸入移到設備上\n",
    "    input_ids = inputs.input_ids.to(device)\n",
    "    attention_mask = inputs.attention_mask.to(device)\n",
    "    \n",
    "    # 使用 with torch.no_grad() 來避免梯度計算\n",
    "    with torch.no_grad():\n",
    "        outputs = peft_model.generate(\n",
    "            input_ids=input_ids,\n",
    "            attention_mask=attention_mask,\n",
    "            max_new_tokens=1,\n",
    "            do_sample=False,\n",
    "            pad_token_id=tokenizer.pad_token_id\n",
    "        )\n",
    "    \n",
    "    # 將輸出移回 CPU 進行解碼\n",
    "    outputs = outputs.cpu()\n",
    "    return tokenizer.decode(outputs[0], skip_special_tokens=True)\n",
    "\n",
    "df = pd.read_csv('../input/data2.csv')\n",
    "results = []\n",
    "for index, row in df.iterrows():\n",
    "    chunks = split_text_into_chunks(row['Chunk'])\n",
    "    for chunk in chunks:\n",
    "        r = detect_has_transaction(chunk)\n",
    "        results.append({\n",
    "            'chunk': chunk,\n",
    "            'result': r==1,\n",
    "            'actual': row['Actual'],\n",
    "            'correct': (r==1) == (row['Actual'] == True)\n",
    "        })\n",
    "df2 = pd.DataFrame(results)"
   ]
  },
  {
   "cell_type": "code",
   "execution_count": 25,
   "metadata": {},
   "outputs": [
    {
     "name": "stdout",
     "output_type": "stream",
     "text": [
      "Total rows: 564\n",
      "Number of correct rows: 472\n",
      "Percentage correct: 83.69%\n",
      "Number of positive: 92\n",
      "Number of negative: 472\n",
      "Number of positive correct: 0\n",
      "Number of negative correct: 472\n",
      "Positive accuracy: 0.00%\n",
      "Negative accuracy: 100.00%\n"
     ]
    },
    {
     "data": {
      "text/html": [
       "<div>\n",
       "<style scoped>\n",
       "    .dataframe tbody tr th:only-of-type {\n",
       "        vertical-align: middle;\n",
       "    }\n",
       "\n",
       "    .dataframe tbody tr th {\n",
       "        vertical-align: top;\n",
       "    }\n",
       "\n",
       "    .dataframe thead th {\n",
       "        text-align: right;\n",
       "    }\n",
       "</style>\n",
       "<table border=\"1\" class=\"dataframe\">\n",
       "  <thead>\n",
       "    <tr style=\"text-align: right;\">\n",
       "      <th></th>\n",
       "      <th>chunk</th>\n",
       "      <th>result</th>\n",
       "      <th>actual</th>\n",
       "      <th>correct</th>\n",
       "    </tr>\n",
       "  </thead>\n",
       "  <tbody>\n",
       "    <tr>\n",
       "      <th>0</th>\n",
       "      <td>AEON CREDIT SERVICE (ASIA) CO., LTD. SAEON AEO...</td>\n",
       "      <td>False</td>\n",
       "      <td>False</td>\n",
       "      <td>True</td>\n",
       "    </tr>\n",
       "    <tr>\n",
       "      <th>1</th>\n",
       "      <td>code 商戶編號:9326) 5. PAYMENT AT CONVENIENCE STO...</td>\n",
       "      <td>False</td>\n",
       "      <td>False</td>\n",
       "      <td>True</td>\n",
       "    </tr>\n",
       "    <tr>\n",
       "      <th>2</th>\n",
       "      <td>code 商戶編號:9326) 5. PAYMENT AT CONVENIENCE STO...</td>\n",
       "      <td>False</td>\n",
       "      <td>False</td>\n",
       "      <td>True</td>\n",
       "    </tr>\n",
       "    <tr>\n",
       "      <th>3</th>\n",
       "      <td>結單後60日仍未收到閣下之查詢,一切賬項均作實論。 Remark 備註:(P)-Princi...</td>\n",
       "      <td>False</td>\n",
       "      <td>False</td>\n",
       "      <td>True</td>\n",
       "    </tr>\n",
       "    <tr>\n",
       "      <th>4</th>\n",
       "      <td>結單後60日仍未收到閣下之查詢,一切賬項均作實論。 Remark 備註:(P)-Princi...</td>\n",
       "      <td>False</td>\n",
       "      <td>True</td>\n",
       "      <td>False</td>\n",
       "    </tr>\n",
       "    <tr>\n",
       "      <th>...</th>\n",
       "      <td>...</td>\n",
       "      <td>...</td>\n",
       "      <td>...</td>\n",
       "      <td>...</td>\n",
       "    </tr>\n",
       "    <tr>\n",
       "      <th>559</th>\n",
       "      <td>ment Due | about... and you will end up paying...</td>\n",
       "      <td>False</td>\n",
       "      <td>False</td>\n",
       "      <td>True</td>\n",
       "    </tr>\n",
       "    <tr>\n",
       "      <th>560</th>\n",
       "      <td>our account 068-0-039716 will be debited HKD 3...</td>\n",
       "      <td>False</td>\n",
       "      <td>False</td>\n",
       "      <td>True</td>\n",
       "    </tr>\n",
       "    <tr>\n",
       "      <th>561</th>\n",
       "      <td>our account 068-0-039716 will be debited HKD 3...</td>\n",
       "      <td>False</td>\n",
       "      <td>False</td>\n",
       "      <td>True</td>\n",
       "    </tr>\n",
       "    <tr>\n",
       "      <th>562</th>\n",
       "      <td>額 信貸安排,請填妥結單頁之表格或透過個人網上理財服務 作出指示。如有任何查詢,請致電223...</td>\n",
       "      <td>False</td>\n",
       "      <td>False</td>\n",
       "      <td>True</td>\n",
       "    </tr>\n",
       "    <tr>\n",
       "      <th>563</th>\n",
       "      <td>額 信貸安排,請填妥結單頁之表格或透過個人網上理財服務 作出指示。如有任何查詢,請致電223...</td>\n",
       "      <td>False</td>\n",
       "      <td>False</td>\n",
       "      <td>True</td>\n",
       "    </tr>\n",
       "  </tbody>\n",
       "</table>\n",
       "<p>564 rows × 4 columns</p>\n",
       "</div>"
      ],
      "text/plain": [
       "                                                 chunk  result  actual  \\\n",
       "0    AEON CREDIT SERVICE (ASIA) CO., LTD. SAEON AEO...   False   False   \n",
       "1     code 商戶編號:9326) 5. PAYMENT AT CONVENIENCE STO...   False   False   \n",
       "2     code 商戶編號:9326) 5. PAYMENT AT CONVENIENCE STO...   False   False   \n",
       "3    結單後60日仍未收到閣下之查詢,一切賬項均作實論。 Remark 備註:(P)-Princi...   False   False   \n",
       "4    結單後60日仍未收到閣下之查詢,一切賬項均作實論。 Remark 備註:(P)-Princi...   False    True   \n",
       "..                                                 ...     ...     ...   \n",
       "559  ment Due | about... and you will end up paying...   False   False   \n",
       "560  our account 068-0-039716 will be debited HKD 3...   False   False   \n",
       "561  our account 068-0-039716 will be debited HKD 3...   False   False   \n",
       "562  額 信貸安排,請填妥結單頁之表格或透過個人網上理財服務 作出指示。如有任何查詢,請致電223...   False   False   \n",
       "563  額 信貸安排,請填妥結單頁之表格或透過個人網上理財服務 作出指示。如有任何查詢,請致電223...   False   False   \n",
       "\n",
       "     correct  \n",
       "0       True  \n",
       "1       True  \n",
       "2       True  \n",
       "3       True  \n",
       "4      False  \n",
       "..       ...  \n",
       "559     True  \n",
       "560     True  \n",
       "561     True  \n",
       "562     True  \n",
       "563     True  \n",
       "\n",
       "[564 rows x 4 columns]"
      ]
     },
     "metadata": {},
     "output_type": "display_data"
    }
   ],
   "source": [
    "total_rows = len(df2)\n",
    "correct_count = df2['correct'].value_counts()[True] if True in df2['correct'].value_counts() else 0\n",
    "correct_percentage = (correct_count / total_rows) * 100\n",
    "no_of_positive_correct = df2[df2['actual'] == True]['correct'].value_counts()[True] if True in df2[df2['actual'] == True]['correct'].value_counts() else 0\n",
    "no_of_negative_correct = df2[df2['actual'] == False]['correct'].value_counts()[True] if True in df2[df2['actual'] == False]['correct'].value_counts() else 0\n",
    "no_of_positive = df2['actual'].value_counts()[True] if True in df2['actual'].value_counts() else 0\n",
    "no_of_negative = df2['actual'].value_counts()[False] if False in df2['actual'].value_counts() else 0\n",
    "positive_accuracy = no_of_positive_correct / no_of_positive * 100\n",
    "negative_accuracy = no_of_negative_correct / no_of_negative * 100\n",
    "\n",
    "print(f\"Total rows: {total_rows}\")\n",
    "print(f\"Number of correct rows: {correct_count}\")\n",
    "print(f\"Percentage correct: {correct_percentage:.2f}%\")\n",
    "print(f\"Number of positive: {no_of_positive}\")\n",
    "print(f\"Number of negative: {no_of_negative}\")\n",
    "print(f\"Number of positive correct: {no_of_positive_correct}\")\n",
    "print(f\"Number of negative correct: {no_of_negative_correct}\")\n",
    "print(f\"Positive accuracy: {positive_accuracy:.2f}%\")\n",
    "print(f\"Negative accuracy: {negative_accuracy:.2f}%\")\n",
    "\n",
    "display(df2)"
   ]
  }
 ],
 "metadata": {
  "kernelspec": {
   "display_name": ".venv",
   "language": "python",
   "name": "python3"
  },
  "language_info": {
   "codemirror_mode": {
    "name": "ipython",
    "version": 3
   },
   "file_extension": ".py",
   "mimetype": "text/x-python",
   "name": "python",
   "nbconvert_exporter": "python",
   "pygments_lexer": "ipython3",
   "version": "3.12.4"
  }
 },
 "nbformat": 4,
 "nbformat_minor": 2
}
